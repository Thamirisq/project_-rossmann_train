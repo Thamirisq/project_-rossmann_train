{
 "cells": [
  {
   "cell_type": "markdown",
   "id": "28a5aa3f-1d10-45a6-bff1-ac295fa2c3ce",
   "metadata": {
    "jp-MarkdownHeadingCollapsed": true,
    "tags": []
   },
   "source": [
    "# Problema de negócio. \n",
    "\n",
    "- Empresa precia saber a previsão diária das vendas das proximas 6 semanas para reforma das lojas.\n"
   ]
  },
  {
   "cell_type": "markdown",
   "id": "c3df6fd1-c780-45f3-bbdc-4077796fbf15",
   "metadata": {
    "tags": []
   },
   "source": [
    "# 0.0 imports"
   ]
  },
  {
   "cell_type": "code",
   "execution_count": 115,
   "id": "53fbc5a1-45f5-4272-8034-877c322ec850",
   "metadata": {},
   "outputs": [],
   "source": [
    "import pandas as pd\n",
    "import inflection\n",
    "import math\n",
    "import numpy as np\n",
    "import seaborn as sns\n",
    "from matplotlib import pyplot  as plt\n",
    "from datetime import datetime, timedelta"
   ]
  },
  {
   "cell_type": "markdown",
   "id": "73465f0b-61e0-4ee0-9872-a43b3b642ccb",
   "metadata": {
    "jp-MarkdownHeadingCollapsed": true,
    "tags": []
   },
   "source": [
    "# 0.1 helper function"
   ]
  },
  {
   "cell_type": "markdown",
   "id": "82d97f8d-c1f4-45e9-8f98-3aa6d8ee78de",
   "metadata": {
    "jp-MarkdownHeadingCollapsed": true,
    "tags": []
   },
   "source": [
    "# 0.2 loading data "
   ]
  },
  {
   "cell_type": "code",
   "execution_count": 6,
   "id": "c7117c08-d0e4-4408-9c40-ce82980e83fd",
   "metadata": {},
   "outputs": [],
   "source": [
    "df_sales_raw = pd.read_csv('data/train.csv', low_memory=False)"
   ]
  },
  {
   "cell_type": "code",
   "execution_count": 7,
   "id": "81a0b471-515b-457e-8640-f85960b64ace",
   "metadata": {},
   "outputs": [],
   "source": [
    "df_store_raw = pd.read_csv('data/store.csv', low_memory=False)"
   ]
  },
  {
   "cell_type": "code",
   "execution_count": 8,
   "id": "e7af6eb4-2ec5-4175-ab1a-293a866fec42",
   "metadata": {},
   "outputs": [],
   "source": [
    "df_raw = pd.merge (df_sales_raw , df_store_raw, how = 'left', on='Store')"
   ]
  },
  {
   "cell_type": "code",
   "execution_count": 9,
   "id": "f15a38a0-978d-4cbb-9f12-0cde4fc0e21f",
   "metadata": {},
   "outputs": [
    {
     "data": {
      "text/html": [
       "<div>\n",
       "<style scoped>\n",
       "    .dataframe tbody tr th:only-of-type {\n",
       "        vertical-align: middle;\n",
       "    }\n",
       "\n",
       "    .dataframe tbody tr th {\n",
       "        vertical-align: top;\n",
       "    }\n",
       "\n",
       "    .dataframe thead th {\n",
       "        text-align: right;\n",
       "    }\n",
       "</style>\n",
       "<table border=\"1\" class=\"dataframe\">\n",
       "  <thead>\n",
       "    <tr style=\"text-align: right;\">\n",
       "      <th></th>\n",
       "      <th>Store</th>\n",
       "      <th>DayOfWeek</th>\n",
       "      <th>Date</th>\n",
       "      <th>Sales</th>\n",
       "      <th>Customers</th>\n",
       "      <th>Open</th>\n",
       "      <th>Promo</th>\n",
       "      <th>StateHoliday</th>\n",
       "      <th>SchoolHoliday</th>\n",
       "      <th>StoreType</th>\n",
       "      <th>Assortment</th>\n",
       "      <th>CompetitionDistance</th>\n",
       "      <th>CompetitionOpenSinceMonth</th>\n",
       "      <th>CompetitionOpenSinceYear</th>\n",
       "      <th>Promo2</th>\n",
       "      <th>Promo2SinceWeek</th>\n",
       "      <th>Promo2SinceYear</th>\n",
       "      <th>PromoInterval</th>\n",
       "    </tr>\n",
       "  </thead>\n",
       "  <tbody>\n",
       "    <tr>\n",
       "      <th>481223</th>\n",
       "      <td>329</td>\n",
       "      <td>6</td>\n",
       "      <td>2014-04-26</td>\n",
       "      <td>4301</td>\n",
       "      <td>408</td>\n",
       "      <td>1</td>\n",
       "      <td>0</td>\n",
       "      <td>0</td>\n",
       "      <td>0</td>\n",
       "      <td>a</td>\n",
       "      <td>a</td>\n",
       "      <td>1310.0</td>\n",
       "      <td>6.0</td>\n",
       "      <td>1990.0</td>\n",
       "      <td>1</td>\n",
       "      <td>22.0</td>\n",
       "      <td>2012.0</td>\n",
       "      <td>Mar,Jun,Sept,Dec</td>\n",
       "    </tr>\n",
       "    <tr>\n",
       "      <th>197044</th>\n",
       "      <td>805</td>\n",
       "      <td>4</td>\n",
       "      <td>2015-02-05</td>\n",
       "      <td>5557</td>\n",
       "      <td>503</td>\n",
       "      <td>1</td>\n",
       "      <td>1</td>\n",
       "      <td>0</td>\n",
       "      <td>0</td>\n",
       "      <td>d</td>\n",
       "      <td>a</td>\n",
       "      <td>24770.0</td>\n",
       "      <td>10.0</td>\n",
       "      <td>2011.0</td>\n",
       "      <td>1</td>\n",
       "      <td>10.0</td>\n",
       "      <td>2014.0</td>\n",
       "      <td>Mar,Jun,Sept,Dec</td>\n",
       "    </tr>\n",
       "    <tr>\n",
       "      <th>381150</th>\n",
       "      <td>937</td>\n",
       "      <td>3</td>\n",
       "      <td>2014-07-30</td>\n",
       "      <td>8800</td>\n",
       "      <td>637</td>\n",
       "      <td>1</td>\n",
       "      <td>1</td>\n",
       "      <td>0</td>\n",
       "      <td>1</td>\n",
       "      <td>d</td>\n",
       "      <td>a</td>\n",
       "      <td>2810.0</td>\n",
       "      <td>NaN</td>\n",
       "      <td>NaN</td>\n",
       "      <td>1</td>\n",
       "      <td>10.0</td>\n",
       "      <td>2014.0</td>\n",
       "      <td>Jan,Apr,Jul,Oct</td>\n",
       "    </tr>\n",
       "    <tr>\n",
       "      <th>515668</th>\n",
       "      <td>209</td>\n",
       "      <td>3</td>\n",
       "      <td>2014-03-26</td>\n",
       "      <td>4542</td>\n",
       "      <td>525</td>\n",
       "      <td>1</td>\n",
       "      <td>0</td>\n",
       "      <td>0</td>\n",
       "      <td>0</td>\n",
       "      <td>a</td>\n",
       "      <td>c</td>\n",
       "      <td>11680.0</td>\n",
       "      <td>9.0</td>\n",
       "      <td>2011.0</td>\n",
       "      <td>1</td>\n",
       "      <td>31.0</td>\n",
       "      <td>2013.0</td>\n",
       "      <td>Jan,Apr,Jul,Oct</td>\n",
       "    </tr>\n",
       "    <tr>\n",
       "      <th>253312</th>\n",
       "      <td>122</td>\n",
       "      <td>6</td>\n",
       "      <td>2014-12-13</td>\n",
       "      <td>6579</td>\n",
       "      <td>748</td>\n",
       "      <td>1</td>\n",
       "      <td>0</td>\n",
       "      <td>0</td>\n",
       "      <td>0</td>\n",
       "      <td>a</td>\n",
       "      <td>c</td>\n",
       "      <td>58260.0</td>\n",
       "      <td>4.0</td>\n",
       "      <td>2013.0</td>\n",
       "      <td>0</td>\n",
       "      <td>NaN</td>\n",
       "      <td>NaN</td>\n",
       "      <td>NaN</td>\n",
       "    </tr>\n",
       "  </tbody>\n",
       "</table>\n",
       "</div>"
      ],
      "text/plain": [
       "        Store  DayOfWeek        Date  Sales  Customers  Open  Promo  \\\n",
       "481223    329          6  2014-04-26   4301        408     1      0   \n",
       "197044    805          4  2015-02-05   5557        503     1      1   \n",
       "381150    937          3  2014-07-30   8800        637     1      1   \n",
       "515668    209          3  2014-03-26   4542        525     1      0   \n",
       "253312    122          6  2014-12-13   6579        748     1      0   \n",
       "\n",
       "       StateHoliday  SchoolHoliday StoreType Assortment  CompetitionDistance  \\\n",
       "481223            0              0         a          a               1310.0   \n",
       "197044            0              0         d          a              24770.0   \n",
       "381150            0              1         d          a               2810.0   \n",
       "515668            0              0         a          c              11680.0   \n",
       "253312            0              0         a          c              58260.0   \n",
       "\n",
       "        CompetitionOpenSinceMonth  CompetitionOpenSinceYear  Promo2  \\\n",
       "481223                        6.0                    1990.0       1   \n",
       "197044                       10.0                    2011.0       1   \n",
       "381150                        NaN                       NaN       1   \n",
       "515668                        9.0                    2011.0       1   \n",
       "253312                        4.0                    2013.0       0   \n",
       "\n",
       "        Promo2SinceWeek  Promo2SinceYear     PromoInterval  \n",
       "481223             22.0           2012.0  Mar,Jun,Sept,Dec  \n",
       "197044             10.0           2014.0  Mar,Jun,Sept,Dec  \n",
       "381150             10.0           2014.0   Jan,Apr,Jul,Oct  \n",
       "515668             31.0           2013.0   Jan,Apr,Jul,Oct  \n",
       "253312              NaN              NaN               NaN  "
      ]
     },
     "execution_count": 9,
     "metadata": {},
     "output_type": "execute_result"
    }
   ],
   "source": [
    "df_raw.sample(5)"
   ]
  },
  {
   "cell_type": "markdown",
   "id": "926f0bc0-4747-48eb-9975-a1ad56c41805",
   "metadata": {
    "jp-MarkdownHeadingCollapsed": true,
    "tags": []
   },
   "source": [
    "# 1.0 Data description"
   ]
  },
  {
   "cell_type": "code",
   "execution_count": 11,
   "id": "afdc6fd0-2da0-42c5-ad87-2f240bde28f9",
   "metadata": {},
   "outputs": [],
   "source": [
    "# know all data and know all dimentions we are working whith to check if we have all equipment necessary. "
   ]
  },
  {
   "cell_type": "markdown",
   "id": "e9107abf-3ea4-4843-992e-d45564d232a8",
   "metadata": {
    "jp-MarkdownHeadingCollapsed": true,
    "tags": []
   },
   "source": [
    "## 1.1 rename columns"
   ]
  },
  {
   "cell_type": "code",
   "execution_count": 13,
   "id": "0f456c5c-41e3-4411-a086-41a20b450aea",
   "metadata": {},
   "outputs": [],
   "source": [
    "df1 = df_raw.copy() #copy for safety and run this work by parts easily."
   ]
  },
  {
   "cell_type": "code",
   "execution_count": 14,
   "id": "4da6e1d1-2b05-4277-b3ee-090af10e84ba",
   "metadata": {},
   "outputs": [
    {
     "data": {
      "text/plain": [
       "Index(['Store', 'DayOfWeek', 'Date', 'Sales', 'Customers', 'Open', 'Promo',\n",
       "       'StateHoliday', 'SchoolHoliday', 'StoreType', 'Assortment',\n",
       "       'CompetitionDistance', 'CompetitionOpenSinceMonth',\n",
       "       'CompetitionOpenSinceYear', 'Promo2', 'Promo2SinceWeek',\n",
       "       'Promo2SinceYear', 'PromoInterval'],\n",
       "      dtype='object')"
      ]
     },
     "execution_count": 14,
     "metadata": {},
     "output_type": "execute_result"
    }
   ],
   "source": [
    "df_raw.columns"
   ]
  },
  {
   "cell_type": "code",
   "execution_count": 15,
   "id": "43034ba0-276f-4f01-badc-9403caa23b3e",
   "metadata": {},
   "outputs": [],
   "source": [
    "cols_old = ['Store', 'DayOfWeek', 'Date', 'Sales', 'Customers', 'Open', 'Promo',\n",
    "       'StateHoliday', 'SchoolHoliday', 'StoreType', 'Assortment',\n",
    "       'CompetitionDistance', 'CompetitionOpenSinceMonth',\n",
    "       'CompetitionOpenSinceYear', 'Promo2', 'Promo2SinceWeek',\n",
    "       'Promo2SinceYear', 'PromoInterval']\n",
    "snakecase = lambda x: inflection.underscore(x)\n",
    "cols_new = list( map( snakecase, cols_old ))\n",
    "\n",
    "df1.columns = cols_new"
   ]
  },
  {
   "cell_type": "code",
   "execution_count": 16,
   "id": "b823b16b-5028-4f3b-9cab-5edbe430ab58",
   "metadata": {},
   "outputs": [
    {
     "data": {
      "text/plain": [
       "Index(['store', 'day_of_week', 'date', 'sales', 'customers', 'open', 'promo',\n",
       "       'state_holiday', 'school_holiday', 'store_type', 'assortment',\n",
       "       'competition_distance', 'competition_open_since_month',\n",
       "       'competition_open_since_year', 'promo2', 'promo2_since_week',\n",
       "       'promo2_since_year', 'promo_interval'],\n",
       "      dtype='object')"
      ]
     },
     "execution_count": 16,
     "metadata": {},
     "output_type": "execute_result"
    }
   ],
   "source": [
    "df1.columns"
   ]
  },
  {
   "cell_type": "markdown",
   "id": "2ce02d08-df64-46ce-9652-0a513f9c410d",
   "metadata": {
    "tags": []
   },
   "source": [
    "## 1.2 data description"
   ]
  },
  {
   "cell_type": "code",
   "execution_count": 18,
   "id": "d4e3d397-fa3a-40e1-b591-3e329f713483",
   "metadata": {},
   "outputs": [
    {
     "name": "stdout",
     "output_type": "stream",
     "text": [
      "numero de linhas: 1017209\n",
      "numero de colunas: 18\n"
     ]
    }
   ],
   "source": [
    "df1.shape\n",
    "\n",
    "print(f'numero de linhas: {df1.shape[0]}')\n",
    "print(f'numero de colunas: {df1.shape[1]}')"
   ]
  },
  {
   "cell_type": "code",
   "execution_count": 19,
   "id": "91be1972-2eb7-49dd-8558-9a57010e3b41",
   "metadata": {},
   "outputs": [
    {
     "data": {
      "text/plain": [
       "store                             int64\n",
       "day_of_week                       int64\n",
       "date                             object\n",
       "sales                             int64\n",
       "customers                         int64\n",
       "open                              int64\n",
       "promo                             int64\n",
       "state_holiday                    object\n",
       "school_holiday                    int64\n",
       "store_type                       object\n",
       "assortment                       object\n",
       "competition_distance            float64\n",
       "competition_open_since_month    float64\n",
       "competition_open_since_year     float64\n",
       "promo2                            int64\n",
       "promo2_since_week               float64\n",
       "promo2_since_year               float64\n",
       "promo_interval                   object\n",
       "dtype: object"
      ]
     },
     "execution_count": 19,
     "metadata": {},
     "output_type": "execute_result"
    }
   ],
   "source": [
    "df1.dtypes"
   ]
  },
  {
   "cell_type": "code",
   "execution_count": 20,
   "id": "bd6ca02a-415a-4796-a394-e045d6d4b75c",
   "metadata": {},
   "outputs": [],
   "source": [
    "df1['date'] = pd.to_datetime(df1['date'])"
   ]
  },
  {
   "cell_type": "code",
   "execution_count": 21,
   "id": "bac06297-1194-4111-a3db-4f56f8d1abd4",
   "metadata": {},
   "outputs": [
    {
     "data": {
      "text/plain": [
       "store                                    int64\n",
       "day_of_week                              int64\n",
       "date                            datetime64[ns]\n",
       "sales                                    int64\n",
       "customers                                int64\n",
       "open                                     int64\n",
       "promo                                    int64\n",
       "state_holiday                           object\n",
       "school_holiday                           int64\n",
       "store_type                              object\n",
       "assortment                              object\n",
       "competition_distance                   float64\n",
       "competition_open_since_month           float64\n",
       "competition_open_since_year            float64\n",
       "promo2                                   int64\n",
       "promo2_since_week                      float64\n",
       "promo2_since_year                      float64\n",
       "promo_interval                          object\n",
       "dtype: object"
      ]
     },
     "execution_count": 21,
     "metadata": {},
     "output_type": "execute_result"
    }
   ],
   "source": [
    "df1.dtypes"
   ]
  },
  {
   "cell_type": "markdown",
   "id": "656bfd90-38ae-4c57-82fc-2c3fcc818df2",
   "metadata": {
    "jp-MarkdownHeadingCollapsed": true,
    "tags": []
   },
   "source": [
    "## 1.3 Adjusting date columns"
   ]
  },
  {
   "cell_type": "code",
   "execution_count": 23,
   "id": "447754ed-0f42-4338-9ffe-1e8345377e89",
   "metadata": {},
   "outputs": [],
   "source": [
    "df1['date'] = pd.to_datetime(df1['date']) #adjusting column date"
   ]
  },
  {
   "cell_type": "code",
   "execution_count": 24,
   "id": "02d85a1f-868f-4915-85ab-26279bee592d",
   "metadata": {},
   "outputs": [
    {
     "data": {
      "text/plain": [
       "store                                    int64\n",
       "day_of_week                              int64\n",
       "date                            datetime64[ns]\n",
       "sales                                    int64\n",
       "customers                                int64\n",
       "open                                     int64\n",
       "promo                                    int64\n",
       "state_holiday                           object\n",
       "school_holiday                           int64\n",
       "store_type                              object\n",
       "assortment                              object\n",
       "competition_distance                   float64\n",
       "competition_open_since_month           float64\n",
       "competition_open_since_year            float64\n",
       "promo2                                   int64\n",
       "promo2_since_week                      float64\n",
       "promo2_since_year                      float64\n",
       "promo_interval                          object\n",
       "dtype: object"
      ]
     },
     "execution_count": 24,
     "metadata": {},
     "output_type": "execute_result"
    }
   ],
   "source": [
    "df1.dtypes"
   ]
  },
  {
   "cell_type": "markdown",
   "id": "5487797b-08c5-40bf-969f-3f6bf6c4f9bc",
   "metadata": {
    "jp-MarkdownHeadingCollapsed": true,
    "tags": []
   },
   "source": [
    "## 1.4 check NAN"
   ]
  },
  {
   "cell_type": "code",
   "execution_count": 26,
   "id": "ce951bcf-549e-4c0d-9618-b63ba7877de3",
   "metadata": {},
   "outputs": [
    {
     "data": {
      "text/plain": [
       "store                                0\n",
       "day_of_week                          0\n",
       "date                                 0\n",
       "sales                                0\n",
       "customers                            0\n",
       "open                                 0\n",
       "promo                                0\n",
       "state_holiday                        0\n",
       "school_holiday                       0\n",
       "store_type                           0\n",
       "assortment                           0\n",
       "competition_distance              2642\n",
       "competition_open_since_month    323348\n",
       "competition_open_since_year     323348\n",
       "promo2                               0\n",
       "promo2_since_week               508031\n",
       "promo2_since_year               508031\n",
       "promo_interval                  508031\n",
       "dtype: int64"
      ]
     },
     "execution_count": 26,
     "metadata": {},
     "output_type": "execute_result"
    }
   ],
   "source": [
    "df1.isna().sum()"
   ]
  },
  {
   "cell_type": "markdown",
   "id": "40253105-1dfb-48dc-99fd-b93d2f5dda74",
   "metadata": {
    "jp-MarkdownHeadingCollapsed": true,
    "tags": []
   },
   "source": [
    "## 1.5 fill NaN"
   ]
  },
  {
   "cell_type": "code",
   "execution_count": 28,
   "id": "4911d8d2-0012-4c41-8fad-dba32fb81170",
   "metadata": {},
   "outputs": [],
   "source": [
    "df1['competition_distance'] = df1['competition_distance'].apply(lambda x: 200000 if math.isnan(x) else x)#é usado math para verificar os nan porque a coluna é float\n",
    "\n",
    "df1['competition_open_since_month'] = df1.apply(lambda x: x['date'].month if math.isnan(x['competition_open_since_month']) else x['competition_open_since_month'],axis=1)\n",
    "\n",
    "df1['competition_open_since_year'] = df1.apply( lambda x: x['date'].year if math.isnan(x['competition_open_since_year']) else x['competition_open_since_year'], axis=1)\n",
    "\n",
    "df1['promo2_since_week'] = df1.apply( lambda x: x['date'].week if math.isnan(x['promo2_since_week']) else x['promo2_since_week'], axis=1)\n",
    "\n",
    "df1['promo2_since_year'] = df1.apply(lambda x: x['date'].year if math.isnan(x['promo2_since_year']) else x['promo2_since_year'], axis=1)\n",
    "\n",
    "month_map = {1: 'Jan', 2: 'Fev', 3: 'Mar', 4: 'Apr', 5: 'May', 6: 'Jun', 7: 'Jul', 8: 'Aug', 9: 'Sep', 10: 'Oct', 11: 'Nov', 12: 'Dec'}\n",
    "\n",
    "df1['promo_interval'] = df1['promo_interval'].fillna(0)\n",
    "\n",
    "df1['month_map']      = df1['date'].dt.month.map( month_map )\n",
    "\n",
    "df1['is_promo'] = df1[['promo_interval','month_map']].apply(lambda x: 0 if x['promo_interval'] == 0 else 1 if x['month_map'] in x['promo_interval'] else 0, axis=1 )"
   ]
  },
  {
   "cell_type": "code",
   "execution_count": 29,
   "id": "ad0281a9-f638-4fd4-94b2-7f7294b3fd79",
   "metadata": {},
   "outputs": [
    {
     "data": {
      "text/plain": [
       "store                           0\n",
       "day_of_week                     0\n",
       "date                            0\n",
       "sales                           0\n",
       "customers                       0\n",
       "open                            0\n",
       "promo                           0\n",
       "state_holiday                   0\n",
       "school_holiday                  0\n",
       "store_type                      0\n",
       "assortment                      0\n",
       "competition_distance            0\n",
       "competition_open_since_month    0\n",
       "competition_open_since_year     0\n",
       "promo2                          0\n",
       "promo2_since_week               0\n",
       "promo2_since_year               0\n",
       "promo_interval                  0\n",
       "month_map                       0\n",
       "is_promo                        0\n",
       "dtype: int64"
      ]
     },
     "execution_count": 29,
     "metadata": {},
     "output_type": "execute_result"
    }
   ],
   "source": [
    "df1.isna().sum() #nan tratados"
   ]
  },
  {
   "cell_type": "code",
   "execution_count": 30,
   "id": "84ddad49-716e-4d29-bda3-5fabdcba850e",
   "metadata": {},
   "outputs": [
    {
     "name": "stdout",
     "output_type": "stream",
     "text": [
      "<class 'pandas.core.frame.DataFrame'>\n",
      "RangeIndex: 1017209 entries, 0 to 1017208\n",
      "Data columns (total 20 columns):\n",
      " #   Column                        Non-Null Count    Dtype         \n",
      "---  ------                        --------------    -----         \n",
      " 0   store                         1017209 non-null  int64         \n",
      " 1   day_of_week                   1017209 non-null  int64         \n",
      " 2   date                          1017209 non-null  datetime64[ns]\n",
      " 3   sales                         1017209 non-null  int64         \n",
      " 4   customers                     1017209 non-null  int64         \n",
      " 5   open                          1017209 non-null  int64         \n",
      " 6   promo                         1017209 non-null  int64         \n",
      " 7   state_holiday                 1017209 non-null  object        \n",
      " 8   school_holiday                1017209 non-null  int64         \n",
      " 9   store_type                    1017209 non-null  object        \n",
      " 10  assortment                    1017209 non-null  object        \n",
      " 11  competition_distance          1017209 non-null  float64       \n",
      " 12  competition_open_since_month  1017209 non-null  float64       \n",
      " 13  competition_open_since_year   1017209 non-null  float64       \n",
      " 14  promo2                        1017209 non-null  int64         \n",
      " 15  promo2_since_week             1017209 non-null  float64       \n",
      " 16  promo2_since_year             1017209 non-null  float64       \n",
      " 17  promo_interval                1017209 non-null  object        \n",
      " 18  month_map                     1017209 non-null  object        \n",
      " 19  is_promo                      1017209 non-null  int64         \n",
      "dtypes: datetime64[ns](1), float64(5), int64(9), object(5)\n",
      "memory usage: 155.2+ MB\n"
     ]
    }
   ],
   "source": [
    "df1.info()"
   ]
  },
  {
   "cell_type": "markdown",
   "id": "8f064302-aa10-473d-83ca-4cc19963dc2a",
   "metadata": {
    "jp-MarkdownHeadingCollapsed": true,
    "tags": []
   },
   "source": [
    "## 1.6 change types of columns"
   ]
  },
  {
   "cell_type": "code",
   "execution_count": 32,
   "id": "32101bf0-b269-4011-b5c6-7bf5d0773383",
   "metadata": {},
   "outputs": [
    {
     "data": {
      "text/plain": [
       "store                                    int64\n",
       "day_of_week                              int64\n",
       "date                            datetime64[ns]\n",
       "sales                                    int64\n",
       "customers                                int64\n",
       "open                                     int64\n",
       "promo                                    int64\n",
       "state_holiday                           object\n",
       "school_holiday                           int64\n",
       "store_type                              object\n",
       "assortment                              object\n",
       "competition_distance                   float64\n",
       "competition_open_since_month           float64\n",
       "competition_open_since_year            float64\n",
       "promo2                                   int64\n",
       "promo2_since_week                      float64\n",
       "promo2_since_year                      float64\n",
       "promo_interval                          object\n",
       "month_map                               object\n",
       "is_promo                                 int64\n",
       "dtype: object"
      ]
     },
     "execution_count": 32,
     "metadata": {},
     "output_type": "execute_result"
    }
   ],
   "source": [
    "df1.dtypes"
   ]
  },
  {
   "cell_type": "code",
   "execution_count": 33,
   "id": "c9dadb93-7651-4063-be29-46ce004a1d8a",
   "metadata": {},
   "outputs": [],
   "source": [
    "df1['promo2_since_week'] = df1['promo2_since_week'].astype(int)\n",
    "df1['promo2_since_year'] = df1['promo2_since_year'].astype(int)\n",
    "\n",
    "df1['competition_open_since_month'] = df1['competition_open_since_month'].astype(int)\n",
    "df1['competition_open_since_year'] = df1['competition_open_since_year'].astype(int)"
   ]
  },
  {
   "cell_type": "markdown",
   "id": "1dd13720-9703-44a5-81c5-5a24e3f127c4",
   "metadata": {
    "tags": []
   },
   "source": [
    "## 1.7 descriptive statistical"
   ]
  },
  {
   "cell_type": "code",
   "execution_count": 35,
   "id": "b6fe2265-ae84-4c24-b8ad-ca2abee09ac7",
   "metadata": {},
   "outputs": [],
   "source": [
    "#spare caregories and numbers columns.\n",
    "num_attributes = df1.select_dtypes(include = ['int64','int32', 'float64'])\n",
    "cat_attributes = df1.select_dtypes(exclude = ['int32','int64', 'float64','datetime64[ns]' ])"
   ]
  },
  {
   "cell_type": "code",
   "execution_count": 36,
   "id": "6842078d-c698-463b-a6f6-aa42b74dc474",
   "metadata": {},
   "outputs": [
    {
     "data": {
      "text/plain": [
       "store                             int64\n",
       "day_of_week                       int64\n",
       "sales                             int64\n",
       "customers                         int64\n",
       "open                              int64\n",
       "promo                             int64\n",
       "school_holiday                    int64\n",
       "competition_distance            float64\n",
       "competition_open_since_month      int32\n",
       "competition_open_since_year       int32\n",
       "promo2                            int64\n",
       "promo2_since_week                 int32\n",
       "promo2_since_year                 int32\n",
       "is_promo                          int64\n",
       "dtype: object"
      ]
     },
     "execution_count": 36,
     "metadata": {},
     "output_type": "execute_result"
    }
   ],
   "source": [
    "num_attributes.dtypes"
   ]
  },
  {
   "cell_type": "markdown",
   "id": "701983d7-8d8d-4185-9e4e-ac7bdc7347ca",
   "metadata": {},
   "source": [
    "### 1.7.1 numerical atributes"
   ]
  },
  {
   "cell_type": "code",
   "execution_count": 38,
   "id": "5d59b444-f5fe-4334-a52f-6e3f2fbfdd2a",
   "metadata": {},
   "outputs": [],
   "source": [
    "# criating a dataframe with mean, median, std, min, max , range, skew and kutosis."
   ]
  },
  {
   "cell_type": "code",
   "execution_count": 39,
   "id": "6c799460-3526-45e4-b1c7-8c1be8cdf7ca",
   "metadata": {},
   "outputs": [],
   "source": [
    "#central tendency\n",
    "ct1 = pd.DataFrame(num_attributes.apply(np.mean)).T\n",
    "ct2 = pd.DataFrame(num_attributes.apply(np.median)).T\n",
    "\n",
    "#Dispersion\n",
    "d1 = pd.DataFrame(num_attributes.apply ( np.std )).T\n",
    "d2 = pd.DataFrame(num_attributes.apply ( min )).T\n",
    "d3 = pd.DataFrame(num_attributes.apply ( max )).T              \n",
    "d4 = pd.DataFrame(num_attributes.apply ( lambda x: x.min()- x.max() )).T\n",
    "d5 = pd.DataFrame(num_attributes.apply ( lambda x: x.skew() )).T\n",
    "d6 = pd.DataFrame(num_attributes.apply ( lambda x: x.kurtosis())).T\n",
    "                   "
   ]
  },
  {
   "cell_type": "code",
   "execution_count": 40,
   "id": "36842f95-23b8-49d8-a489-b344302154b6",
   "metadata": {},
   "outputs": [],
   "source": [
    "m = pd.concat([d2, d3, d4, ct1, ct2, d1, d5, d6], axis=0).T"
   ]
  },
  {
   "cell_type": "code",
   "execution_count": 41,
   "id": "3ad376d6-0787-4d30-beb3-ded697c376ff",
   "metadata": {},
   "outputs": [],
   "source": [
    "m.columns= ['min', 'max', 'range','mean', 'median', 'std', 'skew', 'kurtosis']"
   ]
  },
  {
   "cell_type": "code",
   "execution_count": 42,
   "id": "218880cb-8469-4bbe-9ba4-aa04800ff1b9",
   "metadata": {},
   "outputs": [
    {
     "data": {
      "text/html": [
       "<div>\n",
       "<style scoped>\n",
       "    .dataframe tbody tr th:only-of-type {\n",
       "        vertical-align: middle;\n",
       "    }\n",
       "\n",
       "    .dataframe tbody tr th {\n",
       "        vertical-align: top;\n",
       "    }\n",
       "\n",
       "    .dataframe thead th {\n",
       "        text-align: right;\n",
       "    }\n",
       "</style>\n",
       "<table border=\"1\" class=\"dataframe\">\n",
       "  <thead>\n",
       "    <tr style=\"text-align: right;\">\n",
       "      <th></th>\n",
       "      <th>min</th>\n",
       "      <th>max</th>\n",
       "      <th>range</th>\n",
       "      <th>mean</th>\n",
       "      <th>median</th>\n",
       "      <th>std</th>\n",
       "      <th>skew</th>\n",
       "      <th>kurtosis</th>\n",
       "    </tr>\n",
       "  </thead>\n",
       "  <tbody>\n",
       "    <tr>\n",
       "      <th>store</th>\n",
       "      <td>1.0</td>\n",
       "      <td>1115.0</td>\n",
       "      <td>-1114.0</td>\n",
       "      <td>558.429727</td>\n",
       "      <td>558.0</td>\n",
       "      <td>321.908493</td>\n",
       "      <td>-0.000955</td>\n",
       "      <td>-1.200524</td>\n",
       "    </tr>\n",
       "    <tr>\n",
       "      <th>day_of_week</th>\n",
       "      <td>1.0</td>\n",
       "      <td>7.0</td>\n",
       "      <td>-6.0</td>\n",
       "      <td>3.998341</td>\n",
       "      <td>4.0</td>\n",
       "      <td>1.997390</td>\n",
       "      <td>0.001593</td>\n",
       "      <td>-1.246873</td>\n",
       "    </tr>\n",
       "    <tr>\n",
       "      <th>sales</th>\n",
       "      <td>0.0</td>\n",
       "      <td>41551.0</td>\n",
       "      <td>-41551.0</td>\n",
       "      <td>5773.818972</td>\n",
       "      <td>5744.0</td>\n",
       "      <td>3849.924283</td>\n",
       "      <td>0.641460</td>\n",
       "      <td>1.778375</td>\n",
       "    </tr>\n",
       "    <tr>\n",
       "      <th>customers</th>\n",
       "      <td>0.0</td>\n",
       "      <td>7388.0</td>\n",
       "      <td>-7388.0</td>\n",
       "      <td>633.145946</td>\n",
       "      <td>609.0</td>\n",
       "      <td>464.411506</td>\n",
       "      <td>1.598650</td>\n",
       "      <td>7.091773</td>\n",
       "    </tr>\n",
       "    <tr>\n",
       "      <th>open</th>\n",
       "      <td>0.0</td>\n",
       "      <td>1.0</td>\n",
       "      <td>-1.0</td>\n",
       "      <td>0.830107</td>\n",
       "      <td>1.0</td>\n",
       "      <td>0.375539</td>\n",
       "      <td>-1.758045</td>\n",
       "      <td>1.090723</td>\n",
       "    </tr>\n",
       "    <tr>\n",
       "      <th>promo</th>\n",
       "      <td>0.0</td>\n",
       "      <td>1.0</td>\n",
       "      <td>-1.0</td>\n",
       "      <td>0.381515</td>\n",
       "      <td>0.0</td>\n",
       "      <td>0.485758</td>\n",
       "      <td>0.487838</td>\n",
       "      <td>-1.762018</td>\n",
       "    </tr>\n",
       "    <tr>\n",
       "      <th>school_holiday</th>\n",
       "      <td>0.0</td>\n",
       "      <td>1.0</td>\n",
       "      <td>-1.0</td>\n",
       "      <td>0.178647</td>\n",
       "      <td>0.0</td>\n",
       "      <td>0.383056</td>\n",
       "      <td>1.677842</td>\n",
       "      <td>0.815154</td>\n",
       "    </tr>\n",
       "    <tr>\n",
       "      <th>competition_distance</th>\n",
       "      <td>20.0</td>\n",
       "      <td>200000.0</td>\n",
       "      <td>-199980.0</td>\n",
       "      <td>5935.442677</td>\n",
       "      <td>2330.0</td>\n",
       "      <td>12547.646829</td>\n",
       "      <td>10.242344</td>\n",
       "      <td>147.789712</td>\n",
       "    </tr>\n",
       "    <tr>\n",
       "      <th>competition_open_since_month</th>\n",
       "      <td>1.0</td>\n",
       "      <td>12.0</td>\n",
       "      <td>-11.0</td>\n",
       "      <td>6.786849</td>\n",
       "      <td>7.0</td>\n",
       "      <td>3.311085</td>\n",
       "      <td>-0.042076</td>\n",
       "      <td>-1.232607</td>\n",
       "    </tr>\n",
       "    <tr>\n",
       "      <th>competition_open_since_year</th>\n",
       "      <td>1900.0</td>\n",
       "      <td>2015.0</td>\n",
       "      <td>-115.0</td>\n",
       "      <td>2010.324840</td>\n",
       "      <td>2012.0</td>\n",
       "      <td>5.515591</td>\n",
       "      <td>-7.235657</td>\n",
       "      <td>124.071304</td>\n",
       "    </tr>\n",
       "    <tr>\n",
       "      <th>promo2</th>\n",
       "      <td>0.0</td>\n",
       "      <td>1.0</td>\n",
       "      <td>-1.0</td>\n",
       "      <td>0.500564</td>\n",
       "      <td>1.0</td>\n",
       "      <td>0.500000</td>\n",
       "      <td>-0.002255</td>\n",
       "      <td>-1.999999</td>\n",
       "    </tr>\n",
       "    <tr>\n",
       "      <th>promo2_since_week</th>\n",
       "      <td>1.0</td>\n",
       "      <td>52.0</td>\n",
       "      <td>-51.0</td>\n",
       "      <td>23.619033</td>\n",
       "      <td>22.0</td>\n",
       "      <td>14.310057</td>\n",
       "      <td>0.178723</td>\n",
       "      <td>-1.184046</td>\n",
       "    </tr>\n",
       "    <tr>\n",
       "      <th>promo2_since_year</th>\n",
       "      <td>2009.0</td>\n",
       "      <td>2015.0</td>\n",
       "      <td>-6.0</td>\n",
       "      <td>2012.793297</td>\n",
       "      <td>2013.0</td>\n",
       "      <td>1.662657</td>\n",
       "      <td>-0.784436</td>\n",
       "      <td>-0.210075</td>\n",
       "    </tr>\n",
       "    <tr>\n",
       "      <th>is_promo</th>\n",
       "      <td>0.0</td>\n",
       "      <td>1.0</td>\n",
       "      <td>-1.0</td>\n",
       "      <td>0.161100</td>\n",
       "      <td>0.0</td>\n",
       "      <td>0.367623</td>\n",
       "      <td>1.843742</td>\n",
       "      <td>1.399388</td>\n",
       "    </tr>\n",
       "  </tbody>\n",
       "</table>\n",
       "</div>"
      ],
      "text/plain": [
       "                                 min       max     range         mean  median  \\\n",
       "store                            1.0    1115.0   -1114.0   558.429727   558.0   \n",
       "day_of_week                      1.0       7.0      -6.0     3.998341     4.0   \n",
       "sales                            0.0   41551.0  -41551.0  5773.818972  5744.0   \n",
       "customers                        0.0    7388.0   -7388.0   633.145946   609.0   \n",
       "open                             0.0       1.0      -1.0     0.830107     1.0   \n",
       "promo                            0.0       1.0      -1.0     0.381515     0.0   \n",
       "school_holiday                   0.0       1.0      -1.0     0.178647     0.0   \n",
       "competition_distance            20.0  200000.0 -199980.0  5935.442677  2330.0   \n",
       "competition_open_since_month     1.0      12.0     -11.0     6.786849     7.0   \n",
       "competition_open_since_year   1900.0    2015.0    -115.0  2010.324840  2012.0   \n",
       "promo2                           0.0       1.0      -1.0     0.500564     1.0   \n",
       "promo2_since_week                1.0      52.0     -51.0    23.619033    22.0   \n",
       "promo2_since_year             2009.0    2015.0      -6.0  2012.793297  2013.0   \n",
       "is_promo                         0.0       1.0      -1.0     0.161100     0.0   \n",
       "\n",
       "                                       std       skew    kurtosis  \n",
       "store                           321.908493  -0.000955   -1.200524  \n",
       "day_of_week                       1.997390   0.001593   -1.246873  \n",
       "sales                          3849.924283   0.641460    1.778375  \n",
       "customers                       464.411506   1.598650    7.091773  \n",
       "open                              0.375539  -1.758045    1.090723  \n",
       "promo                             0.485758   0.487838   -1.762018  \n",
       "school_holiday                    0.383056   1.677842    0.815154  \n",
       "competition_distance          12547.646829  10.242344  147.789712  \n",
       "competition_open_since_month      3.311085  -0.042076   -1.232607  \n",
       "competition_open_since_year       5.515591  -7.235657  124.071304  \n",
       "promo2                            0.500000  -0.002255   -1.999999  \n",
       "promo2_since_week                14.310057   0.178723   -1.184046  \n",
       "promo2_since_year                 1.662657  -0.784436   -0.210075  \n",
       "is_promo                          0.367623   1.843742    1.399388  "
      ]
     },
     "execution_count": 42,
     "metadata": {},
     "output_type": "execute_result"
    }
   ],
   "source": [
    "m"
   ]
  },
  {
   "cell_type": "code",
   "execution_count": 43,
   "id": "d4dac295-055e-4b9e-82d4-4ffb1307686b",
   "metadata": {},
   "outputs": [
    {
     "name": "stderr",
     "output_type": "stream",
     "text": [
      "C:\\Users\\thami\\anaconda3\\Lib\\site-packages\\seaborn\\_oldcore.py:1119: FutureWarning: use_inf_as_na option is deprecated and will be removed in a future version. Convert inf values to NaN before operating instead.\n",
      "  with pd.option_context('mode.use_inf_as_na', True):\n"
     ]
    },
    {
     "data": {
      "text/plain": [
       "<seaborn.axisgrid.FacetGrid at 0x22d168dab50>"
      ]
     },
     "execution_count": 43,
     "metadata": {},
     "output_type": "execute_result"
    },
    {
     "data": {
      "image/png": "[encoded data removed]",
      "text/plain": [
       "<Figure size 500x500 with 1 Axes>"
      ]
     },
     "metadata": {},
     "output_type": "display_data"
    }
   ],
   "source": [
    "sns.displot(data=df1, x='sales', kde=True)"
   ]
  },
  {
   "cell_type": "code",
   "execution_count": 44,
   "id": "13f32862-9e91-4e02-962d-ebb869b7e2fd",
   "metadata": {},
   "outputs": [
    {
     "name": "stderr",
     "output_type": "stream",
     "text": [
      "C:\\Users\\thami\\anaconda3\\Lib\\site-packages\\seaborn\\_oldcore.py:1119: FutureWarning: use_inf_as_na option is deprecated and will be removed in a future version. Convert inf values to NaN before operating instead.\n",
      "  with pd.option_context('mode.use_inf_as_na', True):\n"
     ]
    },
    {
     "data": {
      "text/plain": [
       "<seaborn.axisgrid.FacetGrid at 0x22d2afeed90>"
      ]
     },
     "execution_count": 44,
     "metadata": {},
     "output_type": "execute_result"
    },
    {
     "data": {
      "image/png": "[encoded data removed]",
      "text/plain": [
       "<Figure size 500x500 with 1 Axes>"
      ]
     },
     "metadata": {},
     "output_type": "display_data"
    }
   ],
   "source": [
    "sns.displot(df1['sales'], bins=15, kde=True)"
   ]
  },
  {
   "cell_type": "code",
   "execution_count": 45,
   "id": "23dfdb71-e427-45f6-b1fd-d1784198eb1d",
   "metadata": {},
   "outputs": [
    {
     "name": "stderr",
     "output_type": "stream",
     "text": [
      "C:\\Users\\thami\\anaconda3\\Lib\\site-packages\\seaborn\\_oldcore.py:1119: FutureWarning: use_inf_as_na option is deprecated and will be removed in a future version. Convert inf values to NaN before operating instead.\n",
      "  with pd.option_context('mode.use_inf_as_na', True):\n"
     ]
    },
    {
     "data": {
      "text/plain": [
       "<seaborn.axisgrid.FacetGrid at 0x22d25c6e7d0>"
      ]
     },
     "execution_count": 45,
     "metadata": {},
     "output_type": "execute_result"
    },
    {
     "data": {
      "image/png": "[encoded data removed]",
      "text/plain": [
       "<Figure size 500x500 with 1 Axes>"
      ]
     },
     "metadata": {},
     "output_type": "display_data"
    }
   ],
   "source": [
    "sns.displot(df1['competition_distance'],bins=10, kde=True) "
   ]
  },
  {
   "cell_type": "markdown",
   "id": "805a9dcb-467c-4f87-9cdc-7debba7809b3",
   "metadata": {
    "tags": []
   },
   "source": [
    "### 1.7.2 categorical attibrutes"
   ]
  },
  {
   "cell_type": "code",
   "execution_count": 47,
   "id": "753d7b78-a300-43a7-beb6-55946d1251a3",
   "metadata": {},
   "outputs": [
    {
     "data": {
      "text/plain": [
       "state_holiday      4\n",
       "store_type         4\n",
       "assortment         3\n",
       "promo_interval     4\n",
       "month_map         12\n",
       "dtype: int64"
      ]
     },
     "execution_count": 47,
     "metadata": {},
     "output_type": "execute_result"
    }
   ],
   "source": [
    "cat_attributes.nunique()"
   ]
  },
  {
   "cell_type": "code",
   "execution_count": 48,
   "id": "13d74448-4ada-4eee-82a6-63fcb7b92b37",
   "metadata": {},
   "outputs": [],
   "source": [
    "sales_hollyday = df1.loc[df1['state_holiday'] != '0', :]"
   ]
  },
  {
   "cell_type": "code",
   "execution_count": 49,
   "id": "30c24dd8-0cbb-4b12-b0ab-2ff30b726c52",
   "metadata": {},
   "outputs": [],
   "source": [
    "data_aux = sales_hollyday.loc[sales_hollyday['sales']>0 , :]"
   ]
  },
  {
   "cell_type": "code",
   "execution_count": 50,
   "id": "75e09b6b-99dd-4a47-ba2d-fc73a7a9db93",
   "metadata": {},
   "outputs": [
    {
     "data": {
      "image/png": "[encoded data removed]",
      "text/plain": [
       "<Figure size 1800x500 with 3 Axes>"
      ]
     },
     "metadata": {},
     "output_type": "display_data"
    }
   ],
   "source": [
    "plt.figure(figsize=(18, 5))\n",
    "\n",
    "plt.subplot(1,3,1)\n",
    "sns.boxplot(x='state_holiday' , y='sales', data=data_aux, palette='viridis')\n",
    "\n",
    "plt.subplot(1,3,2)\n",
    "sns.boxplot(x='store_type', y='sales', data=data_aux, palette='viridis')\n",
    "\n",
    "plt.subplot(1,3,3)\n",
    "sns.boxplot(x='assortment', y= 'sales', data=data_aux, palette='viridis')\n",
    "\n",
    "plt.subplots_adjust(wspace=0.5)\n",
    "\n",
    "plt.show()\n"
   ]
  },
  {
   "cell_type": "raw",
   "id": "88824233-75d2-4f38-9695-cea6f9bd9069",
   "metadata": {},
   "source": [
    "# mapa mental de hipoteses ; feature engineering.\n",
    "# - qual fenomeno estou modelando\n",
    "# - quem sao os agentes que impactam no que estou analisando, como loja, cliente, produto, etc...\n",
    "# - atributos do agente\n"
   ]
  },
  {
   "cell_type": "markdown",
   "id": "dbd156bf-48ca-445c-8e75-f43a259a6c97",
   "metadata": {},
   "source": [
    "# 2.0 Feature Engineering"
   ]
  },
  {
   "cell_type": "markdown",
   "id": "ea146f5e-d7c0-4f84-a05e-e6ff70c0dc16",
   "metadata": {
    "jp-MarkdownHeadingCollapsed": true,
    "tags": []
   },
   "source": [
    "## 2.1 Creating Hypotheses"
   ]
  },
  {
   "cell_type": "markdown",
   "id": "e69878ee-26d8-4ca4-8a9e-0aeb39c96139",
   "metadata": {
    "jp-MarkdownHeadingCollapsed": true,
    "tags": []
   },
   "source": [
    "### 2.1.1 - Mapa mentel de hipoteses"
   ]
  },
  {
   "cell_type": "code",
   "execution_count": null,
   "id": "19129176-f4aa-4a48-934c-29e5615d0b39",
   "metadata": {},
   "outputs": [],
   "source": []
  },
  {
   "cell_type": "code",
   "execution_count": null,
   "id": "1f03f1a0-0775-4880-82ef-a56d1dbf17f3",
   "metadata": {},
   "outputs": [],
   "source": []
  },
  {
   "cell_type": "code",
   "execution_count": null,
   "id": "65ae25d3-c4d8-4d5f-9bcb-d60b82ab4122",
   "metadata": {},
   "outputs": [],
   "source": []
  },
  {
   "cell_type": "code",
   "execution_count": null,
   "id": "8a7a8a65-eac2-4184-9543-bb962f53dab6",
   "metadata": {},
   "outputs": [],
   "source": []
  },
  {
   "cell_type": "markdown",
   "id": "baaa7362-0c00-4e6c-8656-0ad3a9a6ac4c",
   "metadata": {
    "jp-MarkdownHeadingCollapsed": true,
    "tags": []
   },
   "source": [
    "### 2.1.2 - Criação das hipoteses"
   ]
  },
  {
   "cell_type": "code",
   "execution_count": null,
   "id": "45dcc85c-f5e3-4784-8a4f-0bbc22354de3",
   "metadata": {},
   "outputs": [],
   "source": []
  },
  {
   "cell_type": "code",
   "execution_count": null,
   "id": "44f86388-1ad5-4d66-acda-9ff64882574b",
   "metadata": {},
   "outputs": [],
   "source": []
  },
  {
   "cell_type": "markdown",
   "id": "013de793-c8c0-4c99-8989-3080accfe4bb",
   "metadata": {
    "jp-MarkdownHeadingCollapsed": true,
    "tags": []
   },
   "source": [
    "### 2.1.3 - Lista final de hipoteses"
   ]
  },
  {
   "cell_type": "code",
   "execution_count": null,
   "id": "210cd0cf-7c7b-4712-908d-f0ddc07f1073",
   "metadata": {},
   "outputs": [],
   "source": []
  },
  {
   "cell_type": "code",
   "execution_count": null,
   "id": "cdf1b274-da0b-413d-b5e4-8590dae9ad7a",
   "metadata": {},
   "outputs": [],
   "source": []
  },
  {
   "cell_type": "markdown",
   "id": "7e7877a5-495a-4c70-9a40-01a1456f79f3",
   "metadata": {},
   "source": [
    "## 2.2 Final Hypotheses"
   ]
  },
  {
   "cell_type": "markdown",
   "id": "bd4afddf-4dc7-4e51-bae3-816c2f04c29f",
   "metadata": {},
   "source": [
    "## 2.3 Feature Engineering"
   ]
  },
  {
   "cell_type": "code",
   "execution_count": 75,
   "id": "bb881080-8b50-46d8-b86f-e3420423c31b",
   "metadata": {},
   "outputs": [],
   "source": [
    "df2 = df1.copy() #fazendo copia do arquivo para começar a partir daqui depois das monificações e otimizar o código."
   ]
  },
  {
   "cell_type": "code",
   "execution_count": 77,
   "id": "15e1145e-7437-4280-b39b-dbab2e4a8307",
   "metadata": {},
   "outputs": [
    {
     "data": {
      "text/plain": [
       "(1017209, 20)"
      ]
     },
     "execution_count": 77,
     "metadata": {},
     "output_type": "execute_result"
    }
   ],
   "source": [
    "df2.shape"
   ]
  },
  {
   "cell_type": "code",
   "execution_count": null,
   "id": "d94664ac-49ba-45e3-ba5d-31cc09e8dc24",
   "metadata": {},
   "outputs": [],
   "source": [
    "#criando variaveis derivadas"
   ]
  },
  {
   "cell_type": "code",
   "execution_count": 98,
   "id": "2d74db60-5205-4747-a3e1-59ff65a2d24e",
   "metadata": {},
   "outputs": [],
   "source": [
    "df2['year'] = df2['date'].dt.year # year\n",
    "df2['month'] = df2['date'].dt.month # month\n",
    "df2['day'] = df2['date'].dt.day # day\n",
    "df2['week_of_year'] = df2['date'].dt.isocalendar().week #week\n",
    "df2['year_week'] = df2['date'].dt.strftime('%Y-%W') #year week"
   ]
  },
  {
   "cell_type": "code",
   "execution_count": 94,
   "id": "a8590de7-ff4b-4001-aca6-8cd6c85a8239",
   "metadata": {},
   "outputs": [
    {
     "data": {
      "text/html": [
       "<div>\n",
       "<style scoped>\n",
       "    .dataframe tbody tr th:only-of-type {\n",
       "        vertical-align: middle;\n",
       "    }\n",
       "\n",
       "    .dataframe tbody tr th {\n",
       "        vertical-align: top;\n",
       "    }\n",
       "\n",
       "    .dataframe thead th {\n",
       "        text-align: right;\n",
       "    }\n",
       "</style>\n",
       "<table border=\"1\" class=\"dataframe\">\n",
       "  <thead>\n",
       "    <tr style=\"text-align: right;\">\n",
       "      <th></th>\n",
       "      <th>0</th>\n",
       "      <th>1</th>\n",
       "      <th>2</th>\n",
       "      <th>3</th>\n",
       "      <th>4</th>\n",
       "    </tr>\n",
       "  </thead>\n",
       "  <tbody>\n",
       "    <tr>\n",
       "      <th>store</th>\n",
       "      <td>1</td>\n",
       "      <td>2</td>\n",
       "      <td>3</td>\n",
       "      <td>4</td>\n",
       "      <td>5</td>\n",
       "    </tr>\n",
       "    <tr>\n",
       "      <th>day_of_week</th>\n",
       "      <td>5</td>\n",
       "      <td>5</td>\n",
       "      <td>5</td>\n",
       "      <td>5</td>\n",
       "      <td>5</td>\n",
       "    </tr>\n",
       "    <tr>\n",
       "      <th>date</th>\n",
       "      <td>2015-07-31 00:00:00</td>\n",
       "      <td>2015-07-31 00:00:00</td>\n",
       "      <td>2015-07-31 00:00:00</td>\n",
       "      <td>2015-07-31 00:00:00</td>\n",
       "      <td>2015-07-31 00:00:00</td>\n",
       "    </tr>\n",
       "    <tr>\n",
       "      <th>sales</th>\n",
       "      <td>5263</td>\n",
       "      <td>6064</td>\n",
       "      <td>8314</td>\n",
       "      <td>13995</td>\n",
       "      <td>4822</td>\n",
       "    </tr>\n",
       "    <tr>\n",
       "      <th>customers</th>\n",
       "      <td>555</td>\n",
       "      <td>625</td>\n",
       "      <td>821</td>\n",
       "      <td>1498</td>\n",
       "      <td>559</td>\n",
       "    </tr>\n",
       "    <tr>\n",
       "      <th>open</th>\n",
       "      <td>1</td>\n",
       "      <td>1</td>\n",
       "      <td>1</td>\n",
       "      <td>1</td>\n",
       "      <td>1</td>\n",
       "    </tr>\n",
       "    <tr>\n",
       "      <th>promo</th>\n",
       "      <td>1</td>\n",
       "      <td>1</td>\n",
       "      <td>1</td>\n",
       "      <td>1</td>\n",
       "      <td>1</td>\n",
       "    </tr>\n",
       "    <tr>\n",
       "      <th>state_holiday</th>\n",
       "      <td>0</td>\n",
       "      <td>0</td>\n",
       "      <td>0</td>\n",
       "      <td>0</td>\n",
       "      <td>0</td>\n",
       "    </tr>\n",
       "    <tr>\n",
       "      <th>school_holiday</th>\n",
       "      <td>1</td>\n",
       "      <td>1</td>\n",
       "      <td>1</td>\n",
       "      <td>1</td>\n",
       "      <td>1</td>\n",
       "    </tr>\n",
       "    <tr>\n",
       "      <th>store_type</th>\n",
       "      <td>c</td>\n",
       "      <td>a</td>\n",
       "      <td>a</td>\n",
       "      <td>c</td>\n",
       "      <td>a</td>\n",
       "    </tr>\n",
       "    <tr>\n",
       "      <th>assortment</th>\n",
       "      <td>a</td>\n",
       "      <td>a</td>\n",
       "      <td>a</td>\n",
       "      <td>c</td>\n",
       "      <td>a</td>\n",
       "    </tr>\n",
       "    <tr>\n",
       "      <th>competition_distance</th>\n",
       "      <td>1270.0</td>\n",
       "      <td>570.0</td>\n",
       "      <td>14130.0</td>\n",
       "      <td>620.0</td>\n",
       "      <td>29910.0</td>\n",
       "    </tr>\n",
       "    <tr>\n",
       "      <th>competition_open_since_month</th>\n",
       "      <td>9</td>\n",
       "      <td>11</td>\n",
       "      <td>12</td>\n",
       "      <td>9</td>\n",
       "      <td>4</td>\n",
       "    </tr>\n",
       "    <tr>\n",
       "      <th>competition_open_since_year</th>\n",
       "      <td>2008</td>\n",
       "      <td>2007</td>\n",
       "      <td>2006</td>\n",
       "      <td>2009</td>\n",
       "      <td>2015</td>\n",
       "    </tr>\n",
       "    <tr>\n",
       "      <th>promo2</th>\n",
       "      <td>0</td>\n",
       "      <td>1</td>\n",
       "      <td>1</td>\n",
       "      <td>0</td>\n",
       "      <td>0</td>\n",
       "    </tr>\n",
       "    <tr>\n",
       "      <th>promo2_since_week</th>\n",
       "      <td>31</td>\n",
       "      <td>13</td>\n",
       "      <td>14</td>\n",
       "      <td>31</td>\n",
       "      <td>31</td>\n",
       "    </tr>\n",
       "    <tr>\n",
       "      <th>promo2_since_year</th>\n",
       "      <td>2015</td>\n",
       "      <td>2010</td>\n",
       "      <td>2011</td>\n",
       "      <td>2015</td>\n",
       "      <td>2015</td>\n",
       "    </tr>\n",
       "    <tr>\n",
       "      <th>promo_interval</th>\n",
       "      <td>0</td>\n",
       "      <td>Jan,Apr,Jul,Oct</td>\n",
       "      <td>Jan,Apr,Jul,Oct</td>\n",
       "      <td>0</td>\n",
       "      <td>0</td>\n",
       "    </tr>\n",
       "    <tr>\n",
       "      <th>month_map</th>\n",
       "      <td>Jul</td>\n",
       "      <td>Jul</td>\n",
       "      <td>Jul</td>\n",
       "      <td>Jul</td>\n",
       "      <td>Jul</td>\n",
       "    </tr>\n",
       "    <tr>\n",
       "      <th>is_promo</th>\n",
       "      <td>0</td>\n",
       "      <td>1</td>\n",
       "      <td>1</td>\n",
       "      <td>0</td>\n",
       "      <td>0</td>\n",
       "    </tr>\n",
       "    <tr>\n",
       "      <th>year</th>\n",
       "      <td>2015</td>\n",
       "      <td>2015</td>\n",
       "      <td>2015</td>\n",
       "      <td>2015</td>\n",
       "      <td>2015</td>\n",
       "    </tr>\n",
       "    <tr>\n",
       "      <th>month</th>\n",
       "      <td>7</td>\n",
       "      <td>7</td>\n",
       "      <td>7</td>\n",
       "      <td>7</td>\n",
       "      <td>7</td>\n",
       "    </tr>\n",
       "    <tr>\n",
       "      <th>day</th>\n",
       "      <td>31</td>\n",
       "      <td>31</td>\n",
       "      <td>31</td>\n",
       "      <td>31</td>\n",
       "      <td>31</td>\n",
       "    </tr>\n",
       "    <tr>\n",
       "      <th>week_of_year</th>\n",
       "      <td>31</td>\n",
       "      <td>31</td>\n",
       "      <td>31</td>\n",
       "      <td>31</td>\n",
       "      <td>31</td>\n",
       "    </tr>\n",
       "    <tr>\n",
       "      <th>year_week</th>\n",
       "      <td>2015-30</td>\n",
       "      <td>2015-30</td>\n",
       "      <td>2015-30</td>\n",
       "      <td>2015-30</td>\n",
       "      <td>2015-30</td>\n",
       "    </tr>\n",
       "  </tbody>\n",
       "</table>\n",
       "</div>"
      ],
      "text/plain": [
       "                                                0                    1  \\\n",
       "store                                           1                    2   \n",
       "day_of_week                                     5                    5   \n",
       "date                          2015-07-31 00:00:00  2015-07-31 00:00:00   \n",
       "sales                                        5263                 6064   \n",
       "customers                                     555                  625   \n",
       "open                                            1                    1   \n",
       "promo                                           1                    1   \n",
       "state_holiday                                   0                    0   \n",
       "school_holiday                                  1                    1   \n",
       "store_type                                      c                    a   \n",
       "assortment                                      a                    a   \n",
       "competition_distance                       1270.0                570.0   \n",
       "competition_open_since_month                    9                   11   \n",
       "competition_open_since_year                  2008                 2007   \n",
       "promo2                                          0                    1   \n",
       "promo2_since_week                              31                   13   \n",
       "promo2_since_year                            2015                 2010   \n",
       "promo_interval                                  0      Jan,Apr,Jul,Oct   \n",
       "month_map                                     Jul                  Jul   \n",
       "is_promo                                        0                    1   \n",
       "year                                         2015                 2015   \n",
       "month                                           7                    7   \n",
       "day                                            31                   31   \n",
       "week_of_year                                   31                   31   \n",
       "year_week                                 2015-30              2015-30   \n",
       "\n",
       "                                                2                    3  \\\n",
       "store                                           3                    4   \n",
       "day_of_week                                     5                    5   \n",
       "date                          2015-07-31 00:00:00  2015-07-31 00:00:00   \n",
       "sales                                        8314                13995   \n",
       "customers                                     821                 1498   \n",
       "open                                            1                    1   \n",
       "promo                                           1                    1   \n",
       "state_holiday                                   0                    0   \n",
       "school_holiday                                  1                    1   \n",
       "store_type                                      a                    c   \n",
       "assortment                                      a                    c   \n",
       "competition_distance                      14130.0                620.0   \n",
       "competition_open_since_month                   12                    9   \n",
       "competition_open_since_year                  2006                 2009   \n",
       "promo2                                          1                    0   \n",
       "promo2_since_week                              14                   31   \n",
       "promo2_since_year                            2011                 2015   \n",
       "promo_interval                    Jan,Apr,Jul,Oct                    0   \n",
       "month_map                                     Jul                  Jul   \n",
       "is_promo                                        1                    0   \n",
       "year                                         2015                 2015   \n",
       "month                                           7                    7   \n",
       "day                                            31                   31   \n",
       "week_of_year                                   31                   31   \n",
       "year_week                                 2015-30              2015-30   \n",
       "\n",
       "                                                4  \n",
       "store                                           5  \n",
       "day_of_week                                     5  \n",
       "date                          2015-07-31 00:00:00  \n",
       "sales                                        4822  \n",
       "customers                                     559  \n",
       "open                                            1  \n",
       "promo                                           1  \n",
       "state_holiday                                   0  \n",
       "school_holiday                                  1  \n",
       "store_type                                      a  \n",
       "assortment                                      a  \n",
       "competition_distance                      29910.0  \n",
       "competition_open_since_month                    4  \n",
       "competition_open_since_year                  2015  \n",
       "promo2                                          0  \n",
       "promo2_since_week                              31  \n",
       "promo2_since_year                            2015  \n",
       "promo_interval                                  0  \n",
       "month_map                                     Jul  \n",
       "is_promo                                        0  \n",
       "year                                         2015  \n",
       "month                                           7  \n",
       "day                                            31  \n",
       "week_of_year                                   31  \n",
       "year_week                                 2015-30  "
      ]
     },
     "execution_count": 94,
     "metadata": {},
     "output_type": "execute_result"
    }
   ],
   "source": [
    "df2.head().T"
   ]
  },
  {
   "cell_type": "code",
   "execution_count": 121,
   "id": "33cd2493-ba4c-4ceb-9ac3-8dbb75f5b59d",
   "metadata": {},
   "outputs": [],
   "source": [
    "# competition since\n",
    "df2['competition_since'] = df2.apply( lambda x: datetime(year=x['competition_open_since_year'],month=x['competition_open_since_month'],day=1 ), axis=1 )\n",
    "df2['competition_time_month'] = ( ( df2['date'] - df2['competition_since'] )/30).apply( lambda x: x.days ).astype( int )"
   ]
  },
  {
   "cell_type": "code",
   "execution_count": null,
   "id": "0bfe8afe-07a5-4397-91e1-f8717ae621a0",
   "metadata": {},
   "outputs": [],
   "source": [
    "# promo since\n",
    "df2['promo_since'] = df2['promo2_since_year'].astype( str ) + '-' + df2['promo2_since_week'].astype( str )\n",
    "df2['promo_since'] = df2['promo_since'].apply( lambda x: datetime.strptime( x + '-1', '%Y-%W-%w' ) - timedelta( days=7 ) )\n",
    "df2['promo_time_week'] = ( ( df2['date'] - df2['promo_since'] )/7 ).apply(lambda x: x.days ).astype( int )"
   ]
  },
  {
   "cell_type": "code",
   "execution_count": 119,
   "id": "5fae018b-ecf7-46a4-aac8-4ccbd4bb47fb",
   "metadata": {},
   "outputs": [],
   "source": []
  },
  {
   "cell_type": "code",
   "execution_count": null,
   "id": "fff50460-7c77-450b-a1ac-fd5fc2f5d6c1",
   "metadata": {},
   "outputs": [],
   "source": []
  }
 ],
 "metadata": {
  "kernelspec": {
   "display_name": "Python 3 (ipykernel)",
   "language": "python",
   "name": "python3"
  },
  "language_info": {
   "codemirror_mode": {
    "name": "ipython",
    "version": 3
   },
   "file_extension": ".py",
   "mimetype": "text/x-python",
   "name": "python",
   "nbconvert_exporter": "python",
   "pygments_lexer": "ipython3",
   "version": "3.11.9"
  }
 },
 "nbformat": 4,
 "nbformat_minor": 5
}
