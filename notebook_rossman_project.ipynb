{
 "cells": [
  {
   "cell_type": "markdown",
   "id": "28a5aa3f-1d10-45a6-bff1-ac295fa2c3ce",
   "metadata": {
    "tags": []
   },
   "source": [
    "# Problema de negócio. \n",
    "\n",
    "- Empresa precia saber a previsão diária das vendas das proximas 6 semanas para reforma das lojas.\n"
   ]
  },
  {
   "cell_type": "markdown",
   "id": "c3df6fd1-c780-45f3-bbdc-4077796fbf15",
   "metadata": {
    "tags": []
   },
   "source": [
    "# 0.0 - IMPORTS"
   ]
  },
  {
   "cell_type": "code",
   "execution_count": 4,
   "id": "53fbc5a1-45f5-4272-8034-877c322ec850",
   "metadata": {},
   "outputs": [],
   "source": [
    "import pandas     as pd\n",
    "import numpy      as np\n",
    "import seaborn    as sns\n",
    "import inflection\n",
    "import math\n",
    "import warnings\n",
    "import numpy.testing as testing\n",
    "\n",
    "from matplotlib            import pyplot  as plt\n",
    "from scipy                 import stats   as ss\n",
    "from datetime              import datetime, timedelta\n",
    "from matplotlib.gridspec   import GridSpec\n",
    "from IPython.display       import Image\n",
    "from IPython.core.display  import HTML\n",
    "from sklearn.preprocessing import RobustScaler, MinMaxScaler, LabelEncoder\n",
    "from sklearn.ensemble      import RandomForestRegressor\n",
    "from boruta                import BorutaPy"
   ]
  },
  {
   "cell_type": "code",
   "execution_count": 5,
   "id": "7d251889-1f5d-4608-a557-c0038b2f9027",
   "metadata": {},
   "outputs": [],
   "source": [
    "# Ignora todos os avisos\n",
    "warnings.filterwarnings(\"ignore\")"
   ]
  },
  {
   "cell_type": "markdown",
   "id": "73465f0b-61e0-4ee0-9872-a43b3b642ccb",
   "metadata": {
    "jp-MarkdownHeadingCollapsed": true,
    "tags": []
   },
   "source": [
    "## 0.1 helper function"
   ]
  },
  {
   "cell_type": "markdown",
   "id": "82d97f8d-c1f4-45e9-8f98-3aa6d8ee78de",
   "metadata": {
    "tags": []
   },
   "source": [
    "## 0.2 loading data "
   ]
  },
  {
   "cell_type": "code",
   "execution_count": 8,
   "id": "c7117c08-d0e4-4408-9c40-ce82980e83fd",
   "metadata": {},
   "outputs": [],
   "source": [
    "df_sales_raw = pd.read_csv('data/train.csv', low_memory=False)"
   ]
  },
  {
   "cell_type": "code",
   "execution_count": 9,
   "id": "81a0b471-515b-457e-8640-f85960b64ace",
   "metadata": {},
   "outputs": [],
   "source": [
    "df_store_raw = pd.read_csv('data/store.csv', low_memory=False)"
   ]
  },
  {
   "cell_type": "code",
   "execution_count": 10,
   "id": "e7af6eb4-2ec5-4175-ab1a-293a866fec42",
   "metadata": {},
   "outputs": [],
   "source": [
    "df_raw = pd.merge (df_sales_raw , df_store_raw, how = 'left', on='Store')"
   ]
  },
  {
   "cell_type": "code",
   "execution_count": 11,
   "id": "f15a38a0-978d-4cbb-9f12-0cde4fc0e21f",
   "metadata": {},
   "outputs": [
    {
     "data": {
      "text/html": [
       "<div>\n",
       "<style scoped>\n",
       "    .dataframe tbody tr th:only-of-type {\n",
       "        vertical-align: middle;\n",
       "    }\n",
       "\n",
       "    .dataframe tbody tr th {\n",
       "        vertical-align: top;\n",
       "    }\n",
       "\n",
       "    .dataframe thead th {\n",
       "        text-align: right;\n",
       "    }\n",
       "</style>\n",
       "<table border=\"1\" class=\"dataframe\">\n",
       "  <thead>\n",
       "    <tr style=\"text-align: right;\">\n",
       "      <th></th>\n",
       "      <th>Store</th>\n",
       "      <th>DayOfWeek</th>\n",
       "      <th>Date</th>\n",
       "      <th>Sales</th>\n",
       "      <th>Customers</th>\n",
       "      <th>Open</th>\n",
       "      <th>Promo</th>\n",
       "      <th>StateHoliday</th>\n",
       "      <th>SchoolHoliday</th>\n",
       "      <th>StoreType</th>\n",
       "      <th>Assortment</th>\n",
       "      <th>CompetitionDistance</th>\n",
       "      <th>CompetitionOpenSinceMonth</th>\n",
       "      <th>CompetitionOpenSinceYear</th>\n",
       "      <th>Promo2</th>\n",
       "      <th>Promo2SinceWeek</th>\n",
       "      <th>Promo2SinceYear</th>\n",
       "      <th>PromoInterval</th>\n",
       "    </tr>\n",
       "  </thead>\n",
       "  <tbody>\n",
       "    <tr>\n",
       "      <th>750352</th>\n",
       "      <td>743</td>\n",
       "      <td>3</td>\n",
       "      <td>2013-08-28</td>\n",
       "      <td>3695</td>\n",
       "      <td>427</td>\n",
       "      <td>1</td>\n",
       "      <td>1</td>\n",
       "      <td>0</td>\n",
       "      <td>0</td>\n",
       "      <td>a</td>\n",
       "      <td>a</td>\n",
       "      <td>6710.0</td>\n",
       "      <td>11.0</td>\n",
       "      <td>2003.0</td>\n",
       "      <td>1</td>\n",
       "      <td>14.0</td>\n",
       "      <td>2012.0</td>\n",
       "      <td>Jan,Apr,Jul,Oct</td>\n",
       "    </tr>\n",
       "    <tr>\n",
       "      <th>143167</th>\n",
       "      <td>448</td>\n",
       "      <td>3</td>\n",
       "      <td>2015-03-25</td>\n",
       "      <td>7909</td>\n",
       "      <td>705</td>\n",
       "      <td>1</td>\n",
       "      <td>0</td>\n",
       "      <td>0</td>\n",
       "      <td>0</td>\n",
       "      <td>a</td>\n",
       "      <td>c</td>\n",
       "      <td>3970.0</td>\n",
       "      <td>9.0</td>\n",
       "      <td>2009.0</td>\n",
       "      <td>0</td>\n",
       "      <td>NaN</td>\n",
       "      <td>NaN</td>\n",
       "      <td>NaN</td>\n",
       "    </tr>\n",
       "    <tr>\n",
       "      <th>259148</th>\n",
       "      <td>391</td>\n",
       "      <td>7</td>\n",
       "      <td>2014-12-07</td>\n",
       "      <td>0</td>\n",
       "      <td>0</td>\n",
       "      <td>0</td>\n",
       "      <td>0</td>\n",
       "      <td>0</td>\n",
       "      <td>0</td>\n",
       "      <td>a</td>\n",
       "      <td>a</td>\n",
       "      <td>460.0</td>\n",
       "      <td>11.0</td>\n",
       "      <td>2014.0</td>\n",
       "      <td>1</td>\n",
       "      <td>31.0</td>\n",
       "      <td>2013.0</td>\n",
       "      <td>Feb,May,Aug,Nov</td>\n",
       "    </tr>\n",
       "    <tr>\n",
       "      <th>472176</th>\n",
       "      <td>202</td>\n",
       "      <td>7</td>\n",
       "      <td>2014-05-04</td>\n",
       "      <td>0</td>\n",
       "      <td>0</td>\n",
       "      <td>0</td>\n",
       "      <td>0</td>\n",
       "      <td>0</td>\n",
       "      <td>0</td>\n",
       "      <td>d</td>\n",
       "      <td>c</td>\n",
       "      <td>5140.0</td>\n",
       "      <td>5.0</td>\n",
       "      <td>2010.0</td>\n",
       "      <td>0</td>\n",
       "      <td>NaN</td>\n",
       "      <td>NaN</td>\n",
       "      <td>NaN</td>\n",
       "    </tr>\n",
       "    <tr>\n",
       "      <th>296226</th>\n",
       "      <td>7</td>\n",
       "      <td>2</td>\n",
       "      <td>2014-10-28</td>\n",
       "      <td>7681</td>\n",
       "      <td>897</td>\n",
       "      <td>1</td>\n",
       "      <td>0</td>\n",
       "      <td>0</td>\n",
       "      <td>0</td>\n",
       "      <td>a</td>\n",
       "      <td>c</td>\n",
       "      <td>24000.0</td>\n",
       "      <td>4.0</td>\n",
       "      <td>2013.0</td>\n",
       "      <td>0</td>\n",
       "      <td>NaN</td>\n",
       "      <td>NaN</td>\n",
       "      <td>NaN</td>\n",
       "    </tr>\n",
       "  </tbody>\n",
       "</table>\n",
       "</div>"
      ],
      "text/plain": [
       "        Store  DayOfWeek        Date  Sales  Customers  Open  Promo  \\\n",
       "750352    743          3  2013-08-28   3695        427     1      1   \n",
       "143167    448          3  2015-03-25   7909        705     1      0   \n",
       "259148    391          7  2014-12-07      0          0     0      0   \n",
       "472176    202          7  2014-05-04      0          0     0      0   \n",
       "296226      7          2  2014-10-28   7681        897     1      0   \n",
       "\n",
       "       StateHoliday  SchoolHoliday StoreType Assortment  CompetitionDistance  \\\n",
       "750352            0              0         a          a               6710.0   \n",
       "143167            0              0         a          c               3970.0   \n",
       "259148            0              0         a          a                460.0   \n",
       "472176            0              0         d          c               5140.0   \n",
       "296226            0              0         a          c              24000.0   \n",
       "\n",
       "        CompetitionOpenSinceMonth  CompetitionOpenSinceYear  Promo2  \\\n",
       "750352                       11.0                    2003.0       1   \n",
       "143167                        9.0                    2009.0       0   \n",
       "259148                       11.0                    2014.0       1   \n",
       "472176                        5.0                    2010.0       0   \n",
       "296226                        4.0                    2013.0       0   \n",
       "\n",
       "        Promo2SinceWeek  Promo2SinceYear    PromoInterval  \n",
       "750352             14.0           2012.0  Jan,Apr,Jul,Oct  \n",
       "143167              NaN              NaN              NaN  \n",
       "259148             31.0           2013.0  Feb,May,Aug,Nov  \n",
       "472176              NaN              NaN              NaN  \n",
       "296226              NaN              NaN              NaN  "
      ]
     },
     "execution_count": 11,
     "metadata": {},
     "output_type": "execute_result"
    }
   ],
   "source": [
    "df_raw.sample(5)"
   ]
  },
  {
   "cell_type": "markdown",
   "id": "926f0bc0-4747-48eb-9975-a1ad56c41805",
   "metadata": {
    "jp-MarkdownHeadingCollapsed": true,
    "tags": []
   },
   "source": [
    "# 1.0 DATA DESCRIPTION"
   ]
  },
  {
   "cell_type": "code",
   "execution_count": 13,
   "id": "afdc6fd0-2da0-42c5-ad87-2f240bde28f9",
   "metadata": {},
   "outputs": [],
   "source": [
    "# know all data and know all dimentions we are working whith to check if we have all equipment necessary. "
   ]
  },
  {
   "cell_type": "markdown",
   "id": "e9107abf-3ea4-4843-992e-d45564d232a8",
   "metadata": {
    "tags": []
   },
   "source": [
    "## 1.1 rename columns"
   ]
  },
  {
   "cell_type": "code",
   "execution_count": 15,
   "id": "0f456c5c-41e3-4411-a086-41a20b450aea",
   "metadata": {},
   "outputs": [],
   "source": [
    "df1 = df_raw.copy() #copy for safety and run this work by parts easily."
   ]
  },
  {
   "cell_type": "code",
   "execution_count": 16,
   "id": "4da6e1d1-2b05-4277-b3ee-090af10e84ba",
   "metadata": {},
   "outputs": [
    {
     "data": {
      "text/plain": [
       "Index(['Store', 'DayOfWeek', 'Date', 'Sales', 'Customers', 'Open', 'Promo',\n",
       "       'StateHoliday', 'SchoolHoliday', 'StoreType', 'Assortment',\n",
       "       'CompetitionDistance', 'CompetitionOpenSinceMonth',\n",
       "       'CompetitionOpenSinceYear', 'Promo2', 'Promo2SinceWeek',\n",
       "       'Promo2SinceYear', 'PromoInterval'],\n",
       "      dtype='object')"
      ]
     },
     "execution_count": 16,
     "metadata": {},
     "output_type": "execute_result"
    }
   ],
   "source": [
    "df_raw.columns"
   ]
  },
  {
   "cell_type": "code",
   "execution_count": 17,
   "id": "43034ba0-276f-4f01-badc-9403caa23b3e",
   "metadata": {},
   "outputs": [],
   "source": [
    "cols_old = ['Store', 'DayOfWeek', 'Date', 'Sales', 'Customers', 'Open', 'Promo',\n",
    "       'StateHoliday', 'SchoolHoliday', 'StoreType', 'Assortment',\n",
    "       'CompetitionDistance', 'CompetitionOpenSinceMonth',\n",
    "       'CompetitionOpenSinceYear', 'Promo2', 'Promo2SinceWeek',\n",
    "       'Promo2SinceYear', 'PromoInterval']\n",
    "snakecase = lambda x: inflection.underscore(x)\n",
    "cols_new = list( map( snakecase, cols_old ))\n",
    "\n",
    "df1.columns = cols_new"
   ]
  },
  {
   "cell_type": "code",
   "execution_count": 18,
   "id": "b823b16b-5028-4f3b-9cab-5edbe430ab58",
   "metadata": {},
   "outputs": [
    {
     "data": {
      "text/plain": [
       "Index(['store', 'day_of_week', 'date', 'sales', 'customers', 'open', 'promo',\n",
       "       'state_holiday', 'school_holiday', 'store_type', 'assortment',\n",
       "       'competition_distance', 'competition_open_since_month',\n",
       "       'competition_open_since_year', 'promo2', 'promo2_since_week',\n",
       "       'promo2_since_year', 'promo_interval'],\n",
       "      dtype='object')"
      ]
     },
     "execution_count": 18,
     "metadata": {},
     "output_type": "execute_result"
    }
   ],
   "source": [
    "df1.columns"
   ]
  },
  {
   "cell_type": "markdown",
   "id": "2ce02d08-df64-46ce-9652-0a513f9c410d",
   "metadata": {
    "tags": []
   },
   "source": [
    "## 1.2 data description"
   ]
  },
  {
   "cell_type": "code",
   "execution_count": 20,
   "id": "d4e3d397-fa3a-40e1-b591-3e329f713483",
   "metadata": {},
   "outputs": [
    {
     "name": "stdout",
     "output_type": "stream",
     "text": [
      "numero de linhas: 1017209\n",
      "numero de colunas: 18\n"
     ]
    }
   ],
   "source": [
    "df1.shape\n",
    "\n",
    "print(f'numero de linhas: {df1.shape[0]}')\n",
    "print(f'numero de colunas: {df1.shape[1]}')"
   ]
  },
  {
   "cell_type": "code",
   "execution_count": 21,
   "id": "91be1972-2eb7-49dd-8558-9a57010e3b41",
   "metadata": {},
   "outputs": [
    {
     "data": {
      "text/plain": [
       "store                             int64\n",
       "day_of_week                       int64\n",
       "date                             object\n",
       "sales                             int64\n",
       "customers                         int64\n",
       "open                              int64\n",
       "promo                             int64\n",
       "state_holiday                    object\n",
       "school_holiday                    int64\n",
       "store_type                       object\n",
       "assortment                       object\n",
       "competition_distance            float64\n",
       "competition_open_since_month    float64\n",
       "competition_open_since_year     float64\n",
       "promo2                            int64\n",
       "promo2_since_week               float64\n",
       "promo2_since_year               float64\n",
       "promo_interval                   object\n",
       "dtype: object"
      ]
     },
     "execution_count": 21,
     "metadata": {},
     "output_type": "execute_result"
    }
   ],
   "source": [
    "df1.dtypes"
   ]
  },
  {
   "cell_type": "code",
   "execution_count": 22,
   "id": "bd6ca02a-415a-4796-a394-e045d6d4b75c",
   "metadata": {},
   "outputs": [],
   "source": [
    "df1['date'] = pd.to_datetime(df1['date'])"
   ]
  },
  {
   "cell_type": "code",
   "execution_count": 23,
   "id": "bac06297-1194-4111-a3db-4f56f8d1abd4",
   "metadata": {},
   "outputs": [
    {
     "data": {
      "text/plain": [
       "store                                    int64\n",
       "day_of_week                              int64\n",
       "date                            datetime64[ns]\n",
       "sales                                    int64\n",
       "customers                                int64\n",
       "open                                     int64\n",
       "promo                                    int64\n",
       "state_holiday                           object\n",
       "school_holiday                           int64\n",
       "store_type                              object\n",
       "assortment                              object\n",
       "competition_distance                   float64\n",
       "competition_open_since_month           float64\n",
       "competition_open_since_year            float64\n",
       "promo2                                   int64\n",
       "promo2_since_week                      float64\n",
       "promo2_since_year                      float64\n",
       "promo_interval                          object\n",
       "dtype: object"
      ]
     },
     "execution_count": 23,
     "metadata": {},
     "output_type": "execute_result"
    }
   ],
   "source": [
    "df1.dtypes"
   ]
  },
  {
   "cell_type": "markdown",
   "id": "656bfd90-38ae-4c57-82fc-2c3fcc818df2",
   "metadata": {
    "tags": []
   },
   "source": [
    "## 1.3 Adjusting date columns"
   ]
  },
  {
   "cell_type": "code",
   "execution_count": 25,
   "id": "447754ed-0f42-4338-9ffe-1e8345377e89",
   "metadata": {},
   "outputs": [],
   "source": [
    "df1['date'] = pd.to_datetime(df1['date']) #adjusting column date"
   ]
  },
  {
   "cell_type": "code",
   "execution_count": 26,
   "id": "02d85a1f-868f-4915-85ab-26279bee592d",
   "metadata": {},
   "outputs": [
    {
     "data": {
      "text/plain": [
       "store                                    int64\n",
       "day_of_week                              int64\n",
       "date                            datetime64[ns]\n",
       "sales                                    int64\n",
       "customers                                int64\n",
       "open                                     int64\n",
       "promo                                    int64\n",
       "state_holiday                           object\n",
       "school_holiday                           int64\n",
       "store_type                              object\n",
       "assortment                              object\n",
       "competition_distance                   float64\n",
       "competition_open_since_month           float64\n",
       "competition_open_since_year            float64\n",
       "promo2                                   int64\n",
       "promo2_since_week                      float64\n",
       "promo2_since_year                      float64\n",
       "promo_interval                          object\n",
       "dtype: object"
      ]
     },
     "execution_count": 26,
     "metadata": {},
     "output_type": "execute_result"
    }
   ],
   "source": [
    "df1.dtypes"
   ]
  },
  {
   "cell_type": "markdown",
   "id": "5487797b-08c5-40bf-969f-3f6bf6c4f9bc",
   "metadata": {
    "tags": []
   },
   "source": [
    "## 1.4 check NAN"
   ]
  },
  {
   "cell_type": "code",
   "execution_count": 28,
   "id": "ce951bcf-549e-4c0d-9618-b63ba7877de3",
   "metadata": {},
   "outputs": [
    {
     "data": {
      "text/plain": [
       "store                                0\n",
       "day_of_week                          0\n",
       "date                                 0\n",
       "sales                                0\n",
       "customers                            0\n",
       "open                                 0\n",
       "promo                                0\n",
       "state_holiday                        0\n",
       "school_holiday                       0\n",
       "store_type                           0\n",
       "assortment                           0\n",
       "competition_distance              2642\n",
       "competition_open_since_month    323348\n",
       "competition_open_since_year     323348\n",
       "promo2                               0\n",
       "promo2_since_week               508031\n",
       "promo2_since_year               508031\n",
       "promo_interval                  508031\n",
       "dtype: int64"
      ]
     },
     "execution_count": 28,
     "metadata": {},
     "output_type": "execute_result"
    }
   ],
   "source": [
    "df1.isna().sum()"
   ]
  },
  {
   "cell_type": "markdown",
   "id": "40253105-1dfb-48dc-99fd-b93d2f5dda74",
   "metadata": {
    "tags": []
   },
   "source": [
    "## 1.5 fill NaN"
   ]
  },
  {
   "cell_type": "code",
   "execution_count": 30,
   "id": "4911d8d2-0012-4c41-8fad-dba32fb81170",
   "metadata": {},
   "outputs": [],
   "source": [
    "df1['competition_distance'] = df1['competition_distance'].apply(lambda x: 200000 if math.isnan(x) else x)#é usado math para verificar os nan porque a coluna é float\n",
    "\n",
    "df1['competition_open_since_month'] = df1.apply(lambda x: x['date'].month if math.isnan(x['competition_open_since_month']) else x['competition_open_since_month'],axis=1)\n",
    "\n",
    "df1['competition_open_since_year'] = df1.apply( lambda x: x['date'].year if math.isnan(x['competition_open_since_year']) else x['competition_open_since_year'], axis=1)\n",
    "\n",
    "df1['promo2_since_week'] = df1.apply( lambda x: x['date'].week if math.isnan(x['promo2_since_week']) else x['promo2_since_week'], axis=1)\n",
    "\n",
    "df1['promo2_since_year'] = df1.apply(lambda x: x['date'].year if math.isnan(x['promo2_since_year']) else x['promo2_since_year'], axis=1)\n",
    "\n",
    "month_map = {1: 'Jan', 2: 'Fev', 3: 'Mar', 4: 'Apr', 5: 'May', 6: 'Jun', 7: 'Jul', 8: 'Aug', 9: 'Sep', 10: 'Oct', 11: 'Nov', 12: 'Dec'}\n",
    "\n",
    "df1['promo_interval'] = df1['promo_interval'].fillna(0)\n",
    "\n",
    "df1['month_map']      = df1['date'].dt.month.map( month_map )\n",
    "\n",
    "df1['is_promo'] = df1[['promo_interval','month_map']].apply(lambda x: 0 if x['promo_interval'] == 0 else 1 if x['month_map'] in x['promo_interval'] else 0, axis=1 )"
   ]
  },
  {
   "cell_type": "code",
   "execution_count": 31,
   "id": "ad0281a9-f638-4fd4-94b2-7f7294b3fd79",
   "metadata": {},
   "outputs": [
    {
     "data": {
      "text/plain": [
       "store                           0\n",
       "day_of_week                     0\n",
       "date                            0\n",
       "sales                           0\n",
       "customers                       0\n",
       "open                            0\n",
       "promo                           0\n",
       "state_holiday                   0\n",
       "school_holiday                  0\n",
       "store_type                      0\n",
       "assortment                      0\n",
       "competition_distance            0\n",
       "competition_open_since_month    0\n",
       "competition_open_since_year     0\n",
       "promo2                          0\n",
       "promo2_since_week               0\n",
       "promo2_since_year               0\n",
       "promo_interval                  0\n",
       "month_map                       0\n",
       "is_promo                        0\n",
       "dtype: int64"
      ]
     },
     "execution_count": 31,
     "metadata": {},
     "output_type": "execute_result"
    }
   ],
   "source": [
    "df1.isna().sum() #nan tratados"
   ]
  },
  {
   "cell_type": "code",
   "execution_count": 32,
   "id": "84ddad49-716e-4d29-bda3-5fabdcba850e",
   "metadata": {},
   "outputs": [
    {
     "name": "stdout",
     "output_type": "stream",
     "text": [
      "<class 'pandas.core.frame.DataFrame'>\n",
      "RangeIndex: 1017209 entries, 0 to 1017208\n",
      "Data columns (total 20 columns):\n",
      " #   Column                        Non-Null Count    Dtype         \n",
      "---  ------                        --------------    -----         \n",
      " 0   store                         1017209 non-null  int64         \n",
      " 1   day_of_week                   1017209 non-null  int64         \n",
      " 2   date                          1017209 non-null  datetime64[ns]\n",
      " 3   sales                         1017209 non-null  int64         \n",
      " 4   customers                     1017209 non-null  int64         \n",
      " 5   open                          1017209 non-null  int64         \n",
      " 6   promo                         1017209 non-null  int64         \n",
      " 7   state_holiday                 1017209 non-null  object        \n",
      " 8   school_holiday                1017209 non-null  int64         \n",
      " 9   store_type                    1017209 non-null  object        \n",
      " 10  assortment                    1017209 non-null  object        \n",
      " 11  competition_distance          1017209 non-null  float64       \n",
      " 12  competition_open_since_month  1017209 non-null  float64       \n",
      " 13  competition_open_since_year   1017209 non-null  float64       \n",
      " 14  promo2                        1017209 non-null  int64         \n",
      " 15  promo2_since_week             1017209 non-null  float64       \n",
      " 16  promo2_since_year             1017209 non-null  float64       \n",
      " 17  promo_interval                1017209 non-null  object        \n",
      " 18  month_map                     1017209 non-null  object        \n",
      " 19  is_promo                      1017209 non-null  int64         \n",
      "dtypes: datetime64[ns](1), float64(5), int64(9), object(5)\n",
      "memory usage: 155.2+ MB\n"
     ]
    }
   ],
   "source": [
    "df1.info()"
   ]
  },
  {
   "cell_type": "markdown",
   "id": "8f064302-aa10-473d-83ca-4cc19963dc2a",
   "metadata": {
    "tags": []
   },
   "source": [
    "## 1.6 change columns's types"
   ]
  },
  {
   "cell_type": "code",
   "execution_count": 34,
   "id": "32101bf0-b269-4011-b5c6-7bf5d0773383",
   "metadata": {},
   "outputs": [
    {
     "data": {
      "text/plain": [
       "store                                    int64\n",
       "day_of_week                              int64\n",
       "date                            datetime64[ns]\n",
       "sales                                    int64\n",
       "customers                                int64\n",
       "open                                     int64\n",
       "promo                                    int64\n",
       "state_holiday                           object\n",
       "school_holiday                           int64\n",
       "store_type                              object\n",
       "assortment                              object\n",
       "competition_distance                   float64\n",
       "competition_open_since_month           float64\n",
       "competition_open_since_year            float64\n",
       "promo2                                   int64\n",
       "promo2_since_week                      float64\n",
       "promo2_since_year                      float64\n",
       "promo_interval                          object\n",
       "month_map                               object\n",
       "is_promo                                 int64\n",
       "dtype: object"
      ]
     },
     "execution_count": 34,
     "metadata": {},
     "output_type": "execute_result"
    }
   ],
   "source": [
    "df1.dtypes"
   ]
  },
  {
   "cell_type": "code",
   "execution_count": 35,
   "id": "c9dadb93-7651-4063-be29-46ce004a1d8a",
   "metadata": {},
   "outputs": [],
   "source": [
    "df1['promo2_since_week'] = df1['promo2_since_week'].astype(int)\n",
    "df1['promo2_since_year'] = df1['promo2_since_year'].astype(int)\n",
    "\n",
    "df1['competition_open_since_month'] = df1['competition_open_since_month'].astype(int)\n",
    "df1['competition_open_since_year'] = df1['competition_open_since_year'].astype(int)"
   ]
  },
  {
   "cell_type": "markdown",
   "id": "1dd13720-9703-44a5-81c5-5a24e3f127c4",
   "metadata": {
    "tags": []
   },
   "source": [
    "## 1.7 descriptive statistical"
   ]
  },
  {
   "cell_type": "code",
   "execution_count": 37,
   "id": "b6fe2265-ae84-4c24-b8ad-ca2abee09ac7",
   "metadata": {},
   "outputs": [],
   "source": [
    "#spare caregories and numbers columns.\n",
    "num_attributes = df1.select_dtypes(include = ['int64','int32', 'float64'])\n",
    "cat_attributes = df1.select_dtypes(exclude = ['int32','int64', 'float64','datetime64[ns]' ])"
   ]
  },
  {
   "cell_type": "code",
   "execution_count": 38,
   "id": "6842078d-c698-463b-a6f6-aa42b74dc474",
   "metadata": {},
   "outputs": [
    {
     "data": {
      "text/plain": [
       "store                             int64\n",
       "day_of_week                       int64\n",
       "sales                             int64\n",
       "customers                         int64\n",
       "open                              int64\n",
       "promo                             int64\n",
       "school_holiday                    int64\n",
       "competition_distance            float64\n",
       "competition_open_since_month      int32\n",
       "competition_open_since_year       int32\n",
       "promo2                            int64\n",
       "promo2_since_week                 int32\n",
       "promo2_since_year                 int32\n",
       "is_promo                          int64\n",
       "dtype: object"
      ]
     },
     "execution_count": 38,
     "metadata": {},
     "output_type": "execute_result"
    }
   ],
   "source": [
    "num_attributes.dtypes"
   ]
  },
  {
   "cell_type": "markdown",
   "id": "701983d7-8d8d-4185-9e4e-ac7bdc7347ca",
   "metadata": {},
   "source": [
    "### 1.7.1 numerical atributes"
   ]
  },
  {
   "cell_type": "code",
   "execution_count": 40,
   "id": "5d59b444-f5fe-4334-a52f-6e3f2fbfdd2a",
   "metadata": {},
   "outputs": [],
   "source": [
    "# criating a dataframe with mean, median, std, min, max , range, skew and kutosis."
   ]
  },
  {
   "cell_type": "code",
   "execution_count": 41,
   "id": "6c799460-3526-45e4-b1c7-8c1be8cdf7ca",
   "metadata": {},
   "outputs": [],
   "source": [
    "#central tendency\n",
    "ct1 = pd.DataFrame(num_attributes.apply(np.mean)).T\n",
    "ct2 = pd.DataFrame(num_attributes.apply(np.median)).T\n",
    "\n",
    "#Dispersion\n",
    "d1 = pd.DataFrame(num_attributes.apply ( np.std )).T\n",
    "d2 = pd.DataFrame(num_attributes.apply ( min )).T\n",
    "d3 = pd.DataFrame(num_attributes.apply ( max )).T              \n",
    "d4 = pd.DataFrame(num_attributes.apply ( lambda x: x.min()- x.max() )).T\n",
    "d5 = pd.DataFrame(num_attributes.apply ( lambda x: x.skew() )).T\n",
    "d6 = pd.DataFrame(num_attributes.apply ( lambda x: x.kurtosis())).T\n",
    "                   "
   ]
  },
  {
   "cell_type": "code",
   "execution_count": 42,
   "id": "36842f95-23b8-49d8-a489-b344302154b6",
   "metadata": {},
   "outputs": [],
   "source": [
    "m = pd.concat([d2, d3, d4, ct1, ct2, d1, d5, d6], axis=0).T"
   ]
  },
  {
   "cell_type": "code",
   "execution_count": 43,
   "id": "3ad376d6-0787-4d30-beb3-ded697c376ff",
   "metadata": {},
   "outputs": [],
   "source": [
    "m.columns= ['min', 'max', 'range','mean', 'median', 'std', 'skew', 'kurtosis']"
   ]
  },
  {
   "cell_type": "code",
   "execution_count": 44,
   "id": "218880cb-8469-4bbe-9ba4-aa04800ff1b9",
   "metadata": {},
   "outputs": [
    {
     "data": {
      "text/html": [
       "<div>\n",
       "<style scoped>\n",
       "    .dataframe tbody tr th:only-of-type {\n",
       "        vertical-align: middle;\n",
       "    }\n",
       "\n",
       "    .dataframe tbody tr th {\n",
       "        vertical-align: top;\n",
       "    }\n",
       "\n",
       "    .dataframe thead th {\n",
       "        text-align: right;\n",
       "    }\n",
       "</style>\n",
       "<table border=\"1\" class=\"dataframe\">\n",
       "  <thead>\n",
       "    <tr style=\"text-align: right;\">\n",
       "      <th></th>\n",
       "      <th>min</th>\n",
       "      <th>max</th>\n",
       "      <th>range</th>\n",
       "      <th>mean</th>\n",
       "      <th>median</th>\n",
       "      <th>std</th>\n",
       "      <th>skew</th>\n",
       "      <th>kurtosis</th>\n",
       "    </tr>\n",
       "  </thead>\n",
       "  <tbody>\n",
       "    <tr>\n",
       "      <th>store</th>\n",
       "      <td>1.0</td>\n",
       "      <td>1115.0</td>\n",
       "      <td>-1114.0</td>\n",
       "      <td>558.429727</td>\n",
       "      <td>558.0</td>\n",
       "      <td>321.908493</td>\n",
       "      <td>-0.000955</td>\n",
       "      <td>-1.200524</td>\n",
       "    </tr>\n",
       "    <tr>\n",
       "      <th>day_of_week</th>\n",
       "      <td>1.0</td>\n",
       "      <td>7.0</td>\n",
       "      <td>-6.0</td>\n",
       "      <td>3.998341</td>\n",
       "      <td>4.0</td>\n",
       "      <td>1.997390</td>\n",
       "      <td>0.001593</td>\n",
       "      <td>-1.246873</td>\n",
       "    </tr>\n",
       "    <tr>\n",
       "      <th>sales</th>\n",
       "      <td>0.0</td>\n",
       "      <td>41551.0</td>\n",
       "      <td>-41551.0</td>\n",
       "      <td>5773.818972</td>\n",
       "      <td>5744.0</td>\n",
       "      <td>3849.924283</td>\n",
       "      <td>0.641460</td>\n",
       "      <td>1.778375</td>\n",
       "    </tr>\n",
       "    <tr>\n",
       "      <th>customers</th>\n",
       "      <td>0.0</td>\n",
       "      <td>7388.0</td>\n",
       "      <td>-7388.0</td>\n",
       "      <td>633.145946</td>\n",
       "      <td>609.0</td>\n",
       "      <td>464.411506</td>\n",
       "      <td>1.598650</td>\n",
       "      <td>7.091773</td>\n",
       "    </tr>\n",
       "    <tr>\n",
       "      <th>open</th>\n",
       "      <td>0.0</td>\n",
       "      <td>1.0</td>\n",
       "      <td>-1.0</td>\n",
       "      <td>0.830107</td>\n",
       "      <td>1.0</td>\n",
       "      <td>0.375539</td>\n",
       "      <td>-1.758045</td>\n",
       "      <td>1.090723</td>\n",
       "    </tr>\n",
       "    <tr>\n",
       "      <th>promo</th>\n",
       "      <td>0.0</td>\n",
       "      <td>1.0</td>\n",
       "      <td>-1.0</td>\n",
       "      <td>0.381515</td>\n",
       "      <td>0.0</td>\n",
       "      <td>0.485758</td>\n",
       "      <td>0.487838</td>\n",
       "      <td>-1.762018</td>\n",
       "    </tr>\n",
       "    <tr>\n",
       "      <th>school_holiday</th>\n",
       "      <td>0.0</td>\n",
       "      <td>1.0</td>\n",
       "      <td>-1.0</td>\n",
       "      <td>0.178647</td>\n",
       "      <td>0.0</td>\n",
       "      <td>0.383056</td>\n",
       "      <td>1.677842</td>\n",
       "      <td>0.815154</td>\n",
       "    </tr>\n",
       "    <tr>\n",
       "      <th>competition_distance</th>\n",
       "      <td>20.0</td>\n",
       "      <td>200000.0</td>\n",
       "      <td>-199980.0</td>\n",
       "      <td>5935.442677</td>\n",
       "      <td>2330.0</td>\n",
       "      <td>12547.646829</td>\n",
       "      <td>10.242344</td>\n",
       "      <td>147.789712</td>\n",
       "    </tr>\n",
       "    <tr>\n",
       "      <th>competition_open_since_month</th>\n",
       "      <td>1.0</td>\n",
       "      <td>12.0</td>\n",
       "      <td>-11.0</td>\n",
       "      <td>6.786849</td>\n",
       "      <td>7.0</td>\n",
       "      <td>3.311085</td>\n",
       "      <td>-0.042076</td>\n",
       "      <td>-1.232607</td>\n",
       "    </tr>\n",
       "    <tr>\n",
       "      <th>competition_open_since_year</th>\n",
       "      <td>1900.0</td>\n",
       "      <td>2015.0</td>\n",
       "      <td>-115.0</td>\n",
       "      <td>2010.324840</td>\n",
       "      <td>2012.0</td>\n",
       "      <td>5.515591</td>\n",
       "      <td>-7.235657</td>\n",
       "      <td>124.071304</td>\n",
       "    </tr>\n",
       "    <tr>\n",
       "      <th>promo2</th>\n",
       "      <td>0.0</td>\n",
       "      <td>1.0</td>\n",
       "      <td>-1.0</td>\n",
       "      <td>0.500564</td>\n",
       "      <td>1.0</td>\n",
       "      <td>0.500000</td>\n",
       "      <td>-0.002255</td>\n",
       "      <td>-1.999999</td>\n",
       "    </tr>\n",
       "    <tr>\n",
       "      <th>promo2_since_week</th>\n",
       "      <td>1.0</td>\n",
       "      <td>52.0</td>\n",
       "      <td>-51.0</td>\n",
       "      <td>23.619033</td>\n",
       "      <td>22.0</td>\n",
       "      <td>14.310057</td>\n",
       "      <td>0.178723</td>\n",
       "      <td>-1.184046</td>\n",
       "    </tr>\n",
       "    <tr>\n",
       "      <th>promo2_since_year</th>\n",
       "      <td>2009.0</td>\n",
       "      <td>2015.0</td>\n",
       "      <td>-6.0</td>\n",
       "      <td>2012.793297</td>\n",
       "      <td>2013.0</td>\n",
       "      <td>1.662657</td>\n",
       "      <td>-0.784436</td>\n",
       "      <td>-0.210075</td>\n",
       "    </tr>\n",
       "    <tr>\n",
       "      <th>is_promo</th>\n",
       "      <td>0.0</td>\n",
       "      <td>1.0</td>\n",
       "      <td>-1.0</td>\n",
       "      <td>0.161100</td>\n",
       "      <td>0.0</td>\n",
       "      <td>0.367623</td>\n",
       "      <td>1.843742</td>\n",
       "      <td>1.399388</td>\n",
       "    </tr>\n",
       "  </tbody>\n",
       "</table>\n",
       "</div>"
      ],
      "text/plain": [
       "                                 min       max     range         mean  median  \\\n",
       "store                            1.0    1115.0   -1114.0   558.429727   558.0   \n",
       "day_of_week                      1.0       7.0      -6.0     3.998341     4.0   \n",
       "sales                            0.0   41551.0  -41551.0  5773.818972  5744.0   \n",
       "customers                        0.0    7388.0   -7388.0   633.145946   609.0   \n",
       "open                             0.0       1.0      -1.0     0.830107     1.0   \n",
       "promo                            0.0       1.0      -1.0     0.381515     0.0   \n",
       "school_holiday                   0.0       1.0      -1.0     0.178647     0.0   \n",
       "competition_distance            20.0  200000.0 -199980.0  5935.442677  2330.0   \n",
       "competition_open_since_month     1.0      12.0     -11.0     6.786849     7.0   \n",
       "competition_open_since_year   1900.0    2015.0    -115.0  2010.324840  2012.0   \n",
       "promo2                           0.0       1.0      -1.0     0.500564     1.0   \n",
       "promo2_since_week                1.0      52.0     -51.0    23.619033    22.0   \n",
       "promo2_since_year             2009.0    2015.0      -6.0  2012.793297  2013.0   \n",
       "is_promo                         0.0       1.0      -1.0     0.161100     0.0   \n",
       "\n",
       "                                       std       skew    kurtosis  \n",
       "store                           321.908493  -0.000955   -1.200524  \n",
       "day_of_week                       1.997390   0.001593   -1.246873  \n",
       "sales                          3849.924283   0.641460    1.778375  \n",
       "customers                       464.411506   1.598650    7.091773  \n",
       "open                              0.375539  -1.758045    1.090723  \n",
       "promo                             0.485758   0.487838   -1.762018  \n",
       "school_holiday                    0.383056   1.677842    0.815154  \n",
       "competition_distance          12547.646829  10.242344  147.789712  \n",
       "competition_open_since_month      3.311085  -0.042076   -1.232607  \n",
       "competition_open_since_year       5.515591  -7.235657  124.071304  \n",
       "promo2                            0.500000  -0.002255   -1.999999  \n",
       "promo2_since_week                14.310057   0.178723   -1.184046  \n",
       "promo2_since_year                 1.662657  -0.784436   -0.210075  \n",
       "is_promo                          0.367623   1.843742    1.399388  "
      ]
     },
     "execution_count": 44,
     "metadata": {},
     "output_type": "execute_result"
    }
   ],
   "source": [
    "m"
   ]
  },
  {
   "cell_type": "code",
   "execution_count": 45,
   "id": "d4dac295-055e-4b9e-82d4-4ffb1307686b",
   "metadata": {},
   "outputs": [
    {
     "data": {
      "text/plain": [
       "(array([-10000.,      0.,  10000.,  20000.,  30000.,  40000.,  50000.]),\n",
       " [Text(-10000.0, 0, '−10000'),\n",
       "  Text(0.0, 0, '0'),\n",
       "  Text(10000.0, 0, '10000'),\n",
       "  Text(20000.0, 0, '20000'),\n",
       "  Text(30000.0, 0, '30000'),\n",
       "  Text(40000.0, 0, '40000'),\n",
       "  Text(50000.0, 0, '50000')])"
      ]
     },
     "execution_count": 45,
     "metadata": {},
     "output_type": "execute_result"
    },
    {
     "data": {
      "image/png": "[encoded data removed]",
      "text/plain": [
       "<Figure size 500x500 with 1 Axes>"
      ]
     },
     "metadata": {},
     "output_type": "display_data"
    }
   ],
   "source": [
    "sns.displot(data=df1,bins =20, x='sales', kde=True)\n",
    "plt.xticks(rotation=45)"
   ]
  },
  {
   "cell_type": "code",
   "execution_count": 46,
   "id": "13f32862-9e91-4e02-962d-ebb869b7e2fd",
   "metadata": {},
   "outputs": [
    {
     "data": {
      "text/plain": [
       "(array([-10000.,      0.,  10000.,  20000.,  30000.,  40000.,  50000.]),\n",
       " [Text(-10000.0, 0, '−10000'),\n",
       "  Text(0.0, 0, '0'),\n",
       "  Text(10000.0, 0, '10000'),\n",
       "  Text(20000.0, 0, '20000'),\n",
       "  Text(30000.0, 0, '30000'),\n",
       "  Text(40000.0, 0, '40000'),\n",
       "  Text(50000.0, 0, '50000')])"
      ]
     },
     "execution_count": 46,
     "metadata": {},
     "output_type": "execute_result"
    },
    {
     "data": {
      "image/png": "[encoded data removed]",
      "text/plain": [
       "<Figure size 500x500 with 1 Axes>"
      ]
     },
     "metadata": {},
     "output_type": "display_data"
    }
   ],
   "source": [
    "sns.displot(df1['sales'], bins=15, kde=True)\n",
    "plt.xticks(rotation=45)"
   ]
  },
  {
   "cell_type": "code",
   "execution_count": 47,
   "id": "23dfdb71-e427-45f6-b1fd-d1784198eb1d",
   "metadata": {},
   "outputs": [
    {
     "data": {
      "text/plain": [
       "(array([-25000.,      0.,  25000.,  50000.,  75000., 100000., 125000.,\n",
       "        150000., 175000., 200000., 225000.]),\n",
       " [Text(-25000.0, 0, '−25000'),\n",
       "  Text(0.0, 0, '0'),\n",
       "  Text(25000.0, 0, '25000'),\n",
       "  Text(50000.0, 0, '50000'),\n",
       "  Text(75000.0, 0, '75000'),\n",
       "  Text(100000.0, 0, '100000'),\n",
       "  Text(125000.0, 0, '125000'),\n",
       "  Text(150000.0, 0, '150000'),\n",
       "  Text(175000.0, 0, '175000'),\n",
       "  Text(200000.0, 0, '200000'),\n",
       "  Text(225000.0, 0, '225000')])"
      ]
     },
     "execution_count": 47,
     "metadata": {},
     "output_type": "execute_result"
    },
    {
     "data": {
      "image/png": "[encoded data removed]",
      "text/plain": [
       "<Figure size 500x500 with 1 Axes>"
      ]
     },
     "metadata": {},
     "output_type": "display_data"
    }
   ],
   "source": [
    "sns.displot(df1['competition_distance'],bins=10,  kde=True) \n",
    "plt.xticks(rotation=45)"
   ]
  },
  {
   "cell_type": "markdown",
   "id": "805a9dcb-467c-4f87-9cdc-7debba7809b3",
   "metadata": {
    "tags": []
   },
   "source": [
    "### 1.7.2 categorical attibrutes"
   ]
  },
  {
   "cell_type": "code",
   "execution_count": 49,
   "id": "753d7b78-a300-43a7-beb6-55946d1251a3",
   "metadata": {},
   "outputs": [
    {
     "data": {
      "text/plain": [
       "state_holiday      4\n",
       "store_type         4\n",
       "assortment         3\n",
       "promo_interval     4\n",
       "month_map         12\n",
       "dtype: int64"
      ]
     },
     "execution_count": 49,
     "metadata": {},
     "output_type": "execute_result"
    }
   ],
   "source": [
    "cat_attributes.nunique()"
   ]
  },
  {
   "cell_type": "code",
   "execution_count": 50,
   "id": "13d74448-4ada-4eee-82a6-63fcb7b92b37",
   "metadata": {},
   "outputs": [],
   "source": [
    "sales_hollyday = df1.loc[df1['state_holiday'] != '0', :]"
   ]
  },
  {
   "cell_type": "code",
   "execution_count": 51,
   "id": "30c24dd8-0cbb-4b12-b0ab-2ff30b726c52",
   "metadata": {},
   "outputs": [],
   "source": [
    "data_aux = sales_hollyday.loc[sales_hollyday['sales']>0 , :]"
   ]
  },
  {
   "cell_type": "code",
   "execution_count": 52,
   "id": "75e09b6b-99dd-4a47-ba2d-fc73a7a9db93",
   "metadata": {},
   "outputs": [
    {
     "data": {
      "image/png": "[encoded data removed]",
      "text/plain": [
       "<Figure size 1800x500 with 3 Axes>"
      ]
     },
     "metadata": {},
     "output_type": "display_data"
    }
   ],
   "source": [
    "plt.figure(figsize=(18, 5))\n",
    "\n",
    "plt.subplot(1,3,1)\n",
    "sns.boxplot(x='state_holiday' , y='sales', data=data_aux, palette='viridis')\n",
    "\n",
    "plt.subplot(1,3,2)\n",
    "sns.boxplot(x='store_type', y='sales', data=data_aux, palette='viridis')\n",
    "\n",
    "plt.subplot(1,3,3)\n",
    "sns.boxplot(x='assortment', y= 'sales', data=data_aux, palette='viridis')\n",
    "\n",
    "plt.subplots_adjust(wspace=0.5)\n",
    "\n",
    "plt.show()\n"
   ]
  },
  {
   "cell_type": "raw",
   "id": "88824233-75d2-4f38-9695-cea6f9bd9069",
   "metadata": {},
   "source": [
    "# mapa mental de hipoteses ; feature engineering.\n",
    "# - qual fenomeno estou modelando\n",
    "# - quem sao os agentes que impactam no que estou analisando, como loja, cliente, produto, etc...\n",
    "# - atributos do agente\n"
   ]
  },
  {
   "cell_type": "markdown",
   "id": "dbd156bf-48ca-445c-8e75-f43a259a6c97",
   "metadata": {
    "jp-MarkdownHeadingCollapsed": true,
    "tags": []
   },
   "source": [
    "# 2.0 FEATURE ENGINEERING"
   ]
  },
  {
   "cell_type": "markdown",
   "id": "ea146f5e-d7c0-4f84-a05e-e6ff70c0dc16",
   "metadata": {
    "jp-MarkdownHeadingCollapsed": true,
    "tags": []
   },
   "source": [
    "## 2.1 Creating Hypotheses"
   ]
  },
  {
   "cell_type": "markdown",
   "id": "baaa7362-0c00-4e6c-8656-0ad3a9a6ac4c",
   "metadata": {
    "tags": []
   },
   "source": [
    "#### 2.1.1 - Criação das hipoteses"
   ]
  },
  {
   "cell_type": "markdown",
   "id": "3f49ed31-a42b-49be-b4a0-478c442e8081",
   "metadata": {},
   "source": [
    "Hipoteses Loja\n",
    "1. Lojas com número maior de funcionários deveriam vender mais.\n",
    "2. Lojas com maior capacidade de estoque deveriam vender mais.\n",
    "3. Lojas com maior porte deveriam vender mais.\n",
    "4. Lojas com maior sortimentos deveriam vender mais.\n",
    "5. Lojas com competidores mais próximos deveriam vender menos.\n",
    "6. Lojas com competidores à mais tempo deveriam vendem mais.\n",
    "\n",
    "Hipoteses Produto\n",
    "1. Lojas que investem mais em Marketing deveriam vender mais.\n",
    "2. Lojas com maior exposição de produto deveriam vender mais.\n",
    "3. Lojas com produtos com preço menor deveriam vender mais.\n",
    "5. Lojas com promoções mais agressivas ( descontos maiores ), deveriam vender mais.\n",
    "6. Lojas com promoções ativas por mais tempo deveriam vender mais.\n",
    "7. Lojas com mais dias de promoção deveriam vender mais.\n",
    "8. Lojas com mais promoções consecutivas deveriam vender mais.\n",
    "\n",
    "Hipoteses Tempo\n",
    "1. Lojas abertas durante o feriado de Natal deveriam vender mais.\n",
    "2. Lojas deveriam vender mais ao longo dos anos.\n",
    "3. Lojas deveriam vender mais no segundo semestre do ano.\n",
    "4. Lojas deveriam vender mais depois do dia 10 de cada mês.\n",
    "5. Lojas deveriam vender menos aos finais de semana.\n",
    "6. Lojas deveriam vender menos durante os feriados escolares."
   ]
  },
  {
   "cell_type": "markdown",
   "id": "013de793-c8c0-4c99-8989-3080accfe4bb",
   "metadata": {
    "tags": []
   },
   "source": [
    "#### 2.1.3 - Lista final de hipoteses"
   ]
  },
  {
   "cell_type": "markdown",
   "id": "e5e8a229-93bb-4f0e-b497-a27ee553bd5c",
   "metadata": {},
   "source": [
    "1. Lojas com maior sortimentos deveriam vender mais.\n",
    "2. Lojas com competidores mais próximos deveriam vender menos.\n",
    "3. Lojas com competidores à mais tempo deveriam vendem mais.\n",
    "4. Lojas com promoções ativas por mais tempo deveriam vender mais.\n",
    "5. Lojas com mais dias de promoção deveriam vender mais.\n",
    "7. Lojas com mais promoções consecutivas deveriam vender mais.\n",
    "8. Lojas abertas durante o feriado de Natal deveriam vender mais.\n",
    "9. Lojas deveriam vender mais ao longo dos anos.\n",
    "10. Lojas deveriam vender mais no segundo semestre do ano.\n",
    "11. Lojas deveriam vender mais depois do dia 10 de cada mês.\n",
    "12. Lojas deveriam vender menos aos finais de semana.\n",
    "13. Lojas deveriam vender menos durante os feriados escolares."
   ]
  },
  {
   "cell_type": "markdown",
   "id": "bd4afddf-4dc7-4e51-bae3-816c2f04c29f",
   "metadata": {
    "jp-MarkdownHeadingCollapsed": true,
    "tags": []
   },
   "source": [
    "## 2.3 Feature Engineering"
   ]
  },
  {
   "cell_type": "code",
   "execution_count": 60,
   "id": "bb881080-8b50-46d8-b86f-e3420423c31b",
   "metadata": {},
   "outputs": [],
   "source": [
    "df2 = df1.copy() #fazendo copia do arquivo para começar a partir daqui depois das monificações e otimizar o código."
   ]
  },
  {
   "cell_type": "code",
   "execution_count": 61,
   "id": "15e1145e-7437-4280-b39b-dbab2e4a8307",
   "metadata": {},
   "outputs": [
    {
     "data": {
      "text/plain": [
       "(1017209, 20)"
      ]
     },
     "execution_count": 61,
     "metadata": {},
     "output_type": "execute_result"
    }
   ],
   "source": [
    "df2.shape"
   ]
  },
  {
   "cell_type": "code",
   "execution_count": 62,
   "id": "d94664ac-49ba-45e3-ba5d-31cc09e8dc24",
   "metadata": {},
   "outputs": [],
   "source": [
    "#criando variaveis derivadas"
   ]
  },
  {
   "cell_type": "code",
   "execution_count": 63,
   "id": "2d74db60-5205-4747-a3e1-59ff65a2d24e",
   "metadata": {},
   "outputs": [],
   "source": [
    "df2['year'] = df2['date'].dt.year # year\n",
    "df2['month'] = df2['date'].dt.month # month\n",
    "df2['day'] = df2['date'].dt.day # day\n",
    "df2['week_of_year'] = df2['date'].dt.isocalendar().week #week\n",
    "df2['year_week'] = df2['date'].dt.strftime('%Y-%W') #year week"
   ]
  },
  {
   "cell_type": "code",
   "execution_count": 64,
   "id": "a8590de7-ff4b-4001-aca6-8cd6c85a8239",
   "metadata": {},
   "outputs": [
    {
     "data": {
      "text/html": [
       "<div>\n",
       "<style scoped>\n",
       "    .dataframe tbody tr th:only-of-type {\n",
       "        vertical-align: middle;\n",
       "    }\n",
       "\n",
       "    .dataframe tbody tr th {\n",
       "        vertical-align: top;\n",
       "    }\n",
       "\n",
       "    .dataframe thead th {\n",
       "        text-align: right;\n",
       "    }\n",
       "</style>\n",
       "<table border=\"1\" class=\"dataframe\">\n",
       "  <thead>\n",
       "    <tr style=\"text-align: right;\">\n",
       "      <th></th>\n",
       "      <th>0</th>\n",
       "      <th>1</th>\n",
       "      <th>2</th>\n",
       "      <th>3</th>\n",
       "      <th>4</th>\n",
       "    </tr>\n",
       "  </thead>\n",
       "  <tbody>\n",
       "    <tr>\n",
       "      <th>store</th>\n",
       "      <td>1</td>\n",
       "      <td>2</td>\n",
       "      <td>3</td>\n",
       "      <td>4</td>\n",
       "      <td>5</td>\n",
       "    </tr>\n",
       "    <tr>\n",
       "      <th>day_of_week</th>\n",
       "      <td>5</td>\n",
       "      <td>5</td>\n",
       "      <td>5</td>\n",
       "      <td>5</td>\n",
       "      <td>5</td>\n",
       "    </tr>\n",
       "    <tr>\n",
       "      <th>date</th>\n",
       "      <td>2015-07-31 00:00:00</td>\n",
       "      <td>2015-07-31 00:00:00</td>\n",
       "      <td>2015-07-31 00:00:00</td>\n",
       "      <td>2015-07-31 00:00:00</td>\n",
       "      <td>2015-07-31 00:00:00</td>\n",
       "    </tr>\n",
       "    <tr>\n",
       "      <th>sales</th>\n",
       "      <td>5263</td>\n",
       "      <td>6064</td>\n",
       "      <td>8314</td>\n",
       "      <td>13995</td>\n",
       "      <td>4822</td>\n",
       "    </tr>\n",
       "    <tr>\n",
       "      <th>customers</th>\n",
       "      <td>555</td>\n",
       "      <td>625</td>\n",
       "      <td>821</td>\n",
       "      <td>1498</td>\n",
       "      <td>559</td>\n",
       "    </tr>\n",
       "    <tr>\n",
       "      <th>open</th>\n",
       "      <td>1</td>\n",
       "      <td>1</td>\n",
       "      <td>1</td>\n",
       "      <td>1</td>\n",
       "      <td>1</td>\n",
       "    </tr>\n",
       "    <tr>\n",
       "      <th>promo</th>\n",
       "      <td>1</td>\n",
       "      <td>1</td>\n",
       "      <td>1</td>\n",
       "      <td>1</td>\n",
       "      <td>1</td>\n",
       "    </tr>\n",
       "    <tr>\n",
       "      <th>state_holiday</th>\n",
       "      <td>0</td>\n",
       "      <td>0</td>\n",
       "      <td>0</td>\n",
       "      <td>0</td>\n",
       "      <td>0</td>\n",
       "    </tr>\n",
       "    <tr>\n",
       "      <th>school_holiday</th>\n",
       "      <td>1</td>\n",
       "      <td>1</td>\n",
       "      <td>1</td>\n",
       "      <td>1</td>\n",
       "      <td>1</td>\n",
       "    </tr>\n",
       "    <tr>\n",
       "      <th>store_type</th>\n",
       "      <td>c</td>\n",
       "      <td>a</td>\n",
       "      <td>a</td>\n",
       "      <td>c</td>\n",
       "      <td>a</td>\n",
       "    </tr>\n",
       "    <tr>\n",
       "      <th>assortment</th>\n",
       "      <td>a</td>\n",
       "      <td>a</td>\n",
       "      <td>a</td>\n",
       "      <td>c</td>\n",
       "      <td>a</td>\n",
       "    </tr>\n",
       "    <tr>\n",
       "      <th>competition_distance</th>\n",
       "      <td>1270.0</td>\n",
       "      <td>570.0</td>\n",
       "      <td>14130.0</td>\n",
       "      <td>620.0</td>\n",
       "      <td>29910.0</td>\n",
       "    </tr>\n",
       "    <tr>\n",
       "      <th>competition_open_since_month</th>\n",
       "      <td>9</td>\n",
       "      <td>11</td>\n",
       "      <td>12</td>\n",
       "      <td>9</td>\n",
       "      <td>4</td>\n",
       "    </tr>\n",
       "    <tr>\n",
       "      <th>competition_open_since_year</th>\n",
       "      <td>2008</td>\n",
       "      <td>2007</td>\n",
       "      <td>2006</td>\n",
       "      <td>2009</td>\n",
       "      <td>2015</td>\n",
       "    </tr>\n",
       "    <tr>\n",
       "      <th>promo2</th>\n",
       "      <td>0</td>\n",
       "      <td>1</td>\n",
       "      <td>1</td>\n",
       "      <td>0</td>\n",
       "      <td>0</td>\n",
       "    </tr>\n",
       "    <tr>\n",
       "      <th>promo2_since_week</th>\n",
       "      <td>31</td>\n",
       "      <td>13</td>\n",
       "      <td>14</td>\n",
       "      <td>31</td>\n",
       "      <td>31</td>\n",
       "    </tr>\n",
       "    <tr>\n",
       "      <th>promo2_since_year</th>\n",
       "      <td>2015</td>\n",
       "      <td>2010</td>\n",
       "      <td>2011</td>\n",
       "      <td>2015</td>\n",
       "      <td>2015</td>\n",
       "    </tr>\n",
       "    <tr>\n",
       "      <th>promo_interval</th>\n",
       "      <td>0</td>\n",
       "      <td>Jan,Apr,Jul,Oct</td>\n",
       "      <td>Jan,Apr,Jul,Oct</td>\n",
       "      <td>0</td>\n",
       "      <td>0</td>\n",
       "    </tr>\n",
       "    <tr>\n",
       "      <th>month_map</th>\n",
       "      <td>Jul</td>\n",
       "      <td>Jul</td>\n",
       "      <td>Jul</td>\n",
       "      <td>Jul</td>\n",
       "      <td>Jul</td>\n",
       "    </tr>\n",
       "    <tr>\n",
       "      <th>is_promo</th>\n",
       "      <td>0</td>\n",
       "      <td>1</td>\n",
       "      <td>1</td>\n",
       "      <td>0</td>\n",
       "      <td>0</td>\n",
       "    </tr>\n",
       "    <tr>\n",
       "      <th>year</th>\n",
       "      <td>2015</td>\n",
       "      <td>2015</td>\n",
       "      <td>2015</td>\n",
       "      <td>2015</td>\n",
       "      <td>2015</td>\n",
       "    </tr>\n",
       "    <tr>\n",
       "      <th>month</th>\n",
       "      <td>7</td>\n",
       "      <td>7</td>\n",
       "      <td>7</td>\n",
       "      <td>7</td>\n",
       "      <td>7</td>\n",
       "    </tr>\n",
       "    <tr>\n",
       "      <th>day</th>\n",
       "      <td>31</td>\n",
       "      <td>31</td>\n",
       "      <td>31</td>\n",
       "      <td>31</td>\n",
       "      <td>31</td>\n",
       "    </tr>\n",
       "    <tr>\n",
       "      <th>week_of_year</th>\n",
       "      <td>31</td>\n",
       "      <td>31</td>\n",
       "      <td>31</td>\n",
       "      <td>31</td>\n",
       "      <td>31</td>\n",
       "    </tr>\n",
       "    <tr>\n",
       "      <th>year_week</th>\n",
       "      <td>2015-30</td>\n",
       "      <td>2015-30</td>\n",
       "      <td>2015-30</td>\n",
       "      <td>2015-30</td>\n",
       "      <td>2015-30</td>\n",
       "    </tr>\n",
       "  </tbody>\n",
       "</table>\n",
       "</div>"
      ],
      "text/plain": [
       "                                                0                    1  \\\n",
       "store                                           1                    2   \n",
       "day_of_week                                     5                    5   \n",
       "date                          2015-07-31 00:00:00  2015-07-31 00:00:00   \n",
       "sales                                        5263                 6064   \n",
       "customers                                     555                  625   \n",
       "open                                            1                    1   \n",
       "promo                                           1                    1   \n",
       "state_holiday                                   0                    0   \n",
       "school_holiday                                  1                    1   \n",
       "store_type                                      c                    a   \n",
       "assortment                                      a                    a   \n",
       "competition_distance                       1270.0                570.0   \n",
       "competition_open_since_month                    9                   11   \n",
       "competition_open_since_year                  2008                 2007   \n",
       "promo2                                          0                    1   \n",
       "promo2_since_week                              31                   13   \n",
       "promo2_since_year                            2015                 2010   \n",
       "promo_interval                                  0      Jan,Apr,Jul,Oct   \n",
       "month_map                                     Jul                  Jul   \n",
       "is_promo                                        0                    1   \n",
       "year                                         2015                 2015   \n",
       "month                                           7                    7   \n",
       "day                                            31                   31   \n",
       "week_of_year                                   31                   31   \n",
       "year_week                                 2015-30              2015-30   \n",
       "\n",
       "                                                2                    3  \\\n",
       "store                                           3                    4   \n",
       "day_of_week                                     5                    5   \n",
       "date                          2015-07-31 00:00:00  2015-07-31 00:00:00   \n",
       "sales                                        8314                13995   \n",
       "customers                                     821                 1498   \n",
       "open                                            1                    1   \n",
       "promo                                           1                    1   \n",
       "state_holiday                                   0                    0   \n",
       "school_holiday                                  1                    1   \n",
       "store_type                                      a                    c   \n",
       "assortment                                      a                    c   \n",
       "competition_distance                      14130.0                620.0   \n",
       "competition_open_since_month                   12                    9   \n",
       "competition_open_since_year                  2006                 2009   \n",
       "promo2                                          1                    0   \n",
       "promo2_since_week                              14                   31   \n",
       "promo2_since_year                            2011                 2015   \n",
       "promo_interval                    Jan,Apr,Jul,Oct                    0   \n",
       "month_map                                     Jul                  Jul   \n",
       "is_promo                                        1                    0   \n",
       "year                                         2015                 2015   \n",
       "month                                           7                    7   \n",
       "day                                            31                   31   \n",
       "week_of_year                                   31                   31   \n",
       "year_week                                 2015-30              2015-30   \n",
       "\n",
       "                                                4  \n",
       "store                                           5  \n",
       "day_of_week                                     5  \n",
       "date                          2015-07-31 00:00:00  \n",
       "sales                                        4822  \n",
       "customers                                     559  \n",
       "open                                            1  \n",
       "promo                                           1  \n",
       "state_holiday                                   0  \n",
       "school_holiday                                  1  \n",
       "store_type                                      a  \n",
       "assortment                                      a  \n",
       "competition_distance                      29910.0  \n",
       "competition_open_since_month                    4  \n",
       "competition_open_since_year                  2015  \n",
       "promo2                                          0  \n",
       "promo2_since_week                              31  \n",
       "promo2_since_year                            2015  \n",
       "promo_interval                                  0  \n",
       "month_map                                     Jul  \n",
       "is_promo                                        0  \n",
       "year                                         2015  \n",
       "month                                           7  \n",
       "day                                            31  \n",
       "week_of_year                                   31  \n",
       "year_week                                 2015-30  "
      ]
     },
     "execution_count": 64,
     "metadata": {},
     "output_type": "execute_result"
    }
   ],
   "source": [
    "df2.head().T"
   ]
  },
  {
   "cell_type": "code",
   "execution_count": 65,
   "id": "33cd2493-ba4c-4ceb-9ac3-8dbb75f5b59d",
   "metadata": {},
   "outputs": [],
   "source": [
    "# competition since\n",
    "df2['competition_since'] = df2.apply( lambda x: datetime(year=x['competition_open_since_year'],month=x['competition_open_since_month'],day=1 ), axis=1 )\n",
    "df2['competition_time_month'] = ( ( df2['date'] - df2['competition_since'] )/30).apply( lambda x: x.days ).astype( int )"
   ]
  },
  {
   "cell_type": "code",
   "execution_count": null,
   "id": "0bfe8afe-07a5-4397-91e1-f8717ae621a0",
   "metadata": {},
   "outputs": [],
   "source": [
    "# promo since\n",
    "df2['promo_since'] = df2['promo2_since_year'].astype( str ) + '-' + df2['promo2_since_week'].astype( str )\n",
    "df2['promo_since'] = df2['promo_since'].apply( lambda x: datetime.strptime( x + '-1', '%Y-%W-%w' ) - timedelta( days=7 ) )\n",
    "df2['promo_time_week'] = ( ( df2['date'] - df2['promo_since'] )/7 ).apply(lambda x: x.days ).astype( int )"
   ]
  },
  {
   "cell_type": "code",
   "execution_count": null,
   "id": "5fae018b-ecf7-46a4-aac8-4ccbd4bb47fb",
   "metadata": {},
   "outputs": [],
   "source": [
    "#assortment\n",
    "df2['assortment'] = df2['assortment'].apply( lambda x: 'basic' if x == 'a' else'extra' if x == 'b' else 'extended' )"
   ]
  },
  {
   "cell_type": "code",
   "execution_count": null,
   "id": "fff50460-7c77-450b-a1ac-fd5fc2f5d6c1",
   "metadata": {},
   "outputs": [],
   "source": [
    "# state holiday\n",
    "df2['state_holiday'] = df2['state_holiday'].apply( lambda x: 'public_holiday'if x == 'a' else 'easter_holiday' if x == 'b' else 'christmas' if x == 'c'\n",
    "else 'regular_day' )"
   ]
  },
  {
   "cell_type": "markdown",
   "id": "b764beab-6756-40b1-8f0e-d3dc956f0ff4",
   "metadata": {
    "jp-MarkdownHeadingCollapsed": true,
    "tags": []
   },
   "source": [
    "# 3.0 CHOOSING FEATURES"
   ]
  },
  {
   "cell_type": "code",
   "execution_count": null,
   "id": "f6a90651-e8c8-4aeb-abb1-d94dec4068cc",
   "metadata": {},
   "outputs": [],
   "source": [
    "df3 = df2.copy()"
   ]
  },
  {
   "cell_type": "markdown",
   "id": "d40ab94c-5afe-49cc-867b-6dafc24e1a6d",
   "metadata": {
    "jp-MarkdownHeadingCollapsed": true,
    "tags": []
   },
   "source": [
    "## 3.1 Choosing lines and columns to work"
   ]
  },
  {
   "cell_type": "raw",
   "id": "8c7da076-de72-4ef6-bd84-55614346313c",
   "metadata": {},
   "source": [
    " Selecting rows where the values in the 'open' and 'sales' columns are different from zero, \n",
    " and removing the columns 'customers', 'open', 'promo_interval', and 'month_map'"
   ]
  },
  {
   "cell_type": "code",
   "execution_count": null,
   "id": "8a80a44b-2916-475c-ac4c-27ad82f3d635",
   "metadata": {},
   "outputs": [],
   "source": [
    "columns_keep = ['store', \n",
    "                'day_of_week', \n",
    "                'date', \n",
    "                'sales', \n",
    "                'promo',\n",
    "                'state_holiday', \n",
    "                'school_holiday', \n",
    "                'store_type', \n",
    "                'assortment',\n",
    "                'competition_distance', \n",
    "                'competition_open_since_month',\n",
    "                'competition_open_since_year', \n",
    "                'promo2', 'promo2_since_week',\n",
    "                'promo2_since_year', \n",
    "                'is_promo', 'year',\n",
    "                'month', \n",
    "                'day', \n",
    "                'week_of_year', \n",
    "                'year_week', \n",
    "                'competition_since',\n",
    "                'competition_time_month', \n",
    "                'promo_since', \n",
    "                'promo_time_week']"
   ]
  },
  {
   "cell_type": "code",
   "execution_count": null,
   "id": "cbeb9921-06df-4311-b75a-64f5f9a6dbb1",
   "metadata": {},
   "outputs": [],
   "source": [
    "df3 = df3.loc[ (df3['open'] != 0) & (df3['sales']>0), columns_keep ] "
   ]
  },
  {
   "cell_type": "markdown",
   "id": "a8ff8768-ec29-4521-b941-5ec32bc3cbb2",
   "metadata": {
    "jp-MarkdownHeadingCollapsed": true,
    "tags": []
   },
   "source": [
    "# 4.0 EXPLORATORY DATA ANALYSIS (EDA)"
   ]
  },
  {
   "cell_type": "markdown",
   "id": "9a6a6cb0-6bec-46db-a28a-0de86b84e4f3",
   "metadata": {
    "jp-MarkdownHeadingCollapsed": true,
    "tags": []
   },
   "source": [
    "## 4.1 Análise univariada"
   ]
  },
  {
   "cell_type": "code",
   "execution_count": null,
   "id": "ef9d45a8-535a-49ff-8d61-b577448749dd",
   "metadata": {},
   "outputs": [],
   "source": [
    "df4 = df3.copy()"
   ]
  },
  {
   "cell_type": "markdown",
   "id": "9a6de292-862f-41d7-8cd9-5a0a22da9f65",
   "metadata": {
    "jp-MarkdownHeadingCollapsed": true,
    "tags": []
   },
   "source": [
    "### 4.1.1. Response Variable"
   ]
  },
  {
   "cell_type": "code",
   "execution_count": null,
   "id": "9b8c9593-59b5-4216-9410-a4e461c8c9e2",
   "metadata": {},
   "outputs": [],
   "source": [
    "sns.displot(df4['sales'], bins=25, kde='false')"
   ]
  },
  {
   "cell_type": "markdown",
   "id": "021ff4e4-0040-430f-963d-aaa890e914fe",
   "metadata": {
    "jp-MarkdownHeadingCollapsed": true,
    "tags": []
   },
   "source": [
    "### 4.1.2. Numerical Variable"
   ]
  },
  {
   "cell_type": "code",
   "execution_count": null,
   "id": "79068f53-5840-4c9c-8f21-5ef73fdedc41",
   "metadata": {},
   "outputs": [],
   "source": [
    "num_attributes.hist(bins = 20, figsize=(20, 10)); # num_attributes é um dataframe criada apenas com números na etapa de estatistica descritiva."
   ]
  },
  {
   "cell_type": "markdown",
   "id": "6d522a80-b5db-4fe2-b006-123c6a5cf5d7",
   "metadata": {},
   "source": [
    "### 4.1.3 Categorical Variable"
   ]
  },
  {
   "cell_type": "code",
   "execution_count": null,
   "id": "3e463526-e543-4d99-8141-39ce0fa0a02f",
   "metadata": {},
   "outputs": [],
   "source": [
    "# state_holiday\n",
    "\n",
    "#tamanho dos graficos\n",
    "plt.figure(figsize=(15, 10))\n",
    "\n",
    "#ordem de linhas, colunas e o index do grafico abaixo\n",
    "plt.subplot( 3, 2, 1) \n",
    "#selecao de dados, separando os dias regulares de feriados e colunas.\n",
    "a = df4.loc[(df4['state_holiday'] != 'regular_day'), ['state_holiday', 'sales']] \n",
    "#montando gráfico com state holiday \n",
    "sns.countplot( x = a['state_holiday'], order = ['public_holiday', 'easter_holiday', 'christmas']) \n",
    "plt.title('state_holiday')\n",
    "\n",
    "#ordem de linhas, colunas e o index do grafico abaixo\n",
    "plt.subplot( 3, 2, 2 )\n",
    "#grafico de densidade sobreposto feriados.\n",
    "sns.kdeplot( df4[df4['state_holiday'] == 'public_holiday']['sales'], label='public_holiday', shade=True )\n",
    "sns.kdeplot( df4[df4['state_holiday'] == 'easter_holiday']['sales'], label='easter_holiday', shade=True )\n",
    "sns.kdeplot( df4[df4['state_holiday'] == 'christmas']['sales'], label='christmas', shade=True )\n",
    "plt.legend()\n",
    "plt.title('state_holiday')\n",
    "\n",
    "#ordem de linhas, colunas e o index do grafico abaixo\n",
    "plt.subplot( 3, 2, 3)\n",
    "#separando dados para trabalhar\n",
    "b = df4.loc[:, ['store_type','sales'] ]\n",
    "#grafico de barras\n",
    "sns.countplot(x = b['store_type'] , order = ['a', 'b','c','d']  )  \n",
    "plt.title('store_type')\n",
    "\n",
    "#ordem de linhas, colunas e o index do grafico abaixo\n",
    "plt.subplot( 3, 2, 4)\n",
    "#grafico de densidade sobreposto feriados.\n",
    "sns.kdeplot( df4[df4['store_type'] == 'a']['sales'], label='a', shade=True )\n",
    "sns.kdeplot( df4[df4['store_type'] == 'b']['sales'], label='b', shade=True )\n",
    "sns.kdeplot( df4[df4['store_type'] == 'c']['sales'], label='c', shade=True )\n",
    "sns.kdeplot( df4[df4['store_type'] == 'd']['sales'], label='d', shade=True )\n",
    "plt.legend() #legenda do grafico sobreposto\n",
    "plt.title('store_type')\n",
    "\n",
    "#ordem de linhas, colunas e o index do grafico abaixo\n",
    "plt.subplot( 3, 2, 5)\n",
    "#separando dados para trabalhar\n",
    "c = df4.loc[:, 'assortment'] \n",
    "#montando gráfico de barras\n",
    "sns.countplot(x = c , order = ['extended', 'basic', 'extra'] )  \n",
    "plt.title('assortment')\n",
    "\n",
    "#ordem de linhas, colunas e o index do grafico abaixo\n",
    "plt.subplot( 3, 2, 6)\n",
    "#separando dados para trabalhar\n",
    "sns.kdeplot( df4[df4['assortment'] == 'extended']['sales'], label='extended', shade=True )\n",
    "sns.kdeplot( df4[df4['assortment'] == 'basic']['sales'], label='basic', shade=True )\n",
    "sns.kdeplot( df4[df4['assortment'] == 'extra']['sales'], label='extra', shade=True )\n",
    "plt.legend()\n",
    "plt.title('assortment')\n",
    "\n",
    "plt.subplots_adjust(wspace=0.5, hspace=0.5)"
   ]
  },
  {
   "cell_type": "markdown",
   "id": "bb46340e-f3d8-475b-ae41-7dad107e3b06",
   "metadata": {
    "jp-MarkdownHeadingCollapsed": true,
    "tags": []
   },
   "source": [
    "## 4.2 Análise bivariada"
   ]
  },
  {
   "cell_type": "code",
   "execution_count": null,
   "id": "62141231-1c6d-4c61-acfa-bdb9bdef4299",
   "metadata": {},
   "outputs": [],
   "source": [
    "## H1. Lojas com maior sortimentos deveriam vender mais.FALSA Lojas com MAIOR SORTIMENTO vendem MENOS."
   ]
  },
  {
   "cell_type": "code",
   "execution_count": null,
   "id": "85e2ad4a-95e3-48d1-ad49-87cd9da05ff5",
   "metadata": {},
   "outputs": [],
   "source": [
    "aux1 = df4[['assortment', 'sales']].groupby( 'assortment' ).sum().reset_index()\n",
    "sns.barplot( x='assortment', y='sales', data=aux1 );\n",
    "\n",
    "aux2 = df4[['year_week', 'assortment', 'sales']].groupby(['year_week','assortment'] ).sum().reset_index()\n",
    "aux2.pivot( index='year_week', columns='assortment', values='sales' ).plot()\n",
    "\n",
    "aux3 = aux2[aux2['assortment'] == 'extra']\n",
    "aux3.pivot( index='year_week', columns='assortment', values='sales' ).plot()\n"
   ]
  },
  {
   "cell_type": "code",
   "execution_count": null,
   "id": "8d57d99d-9189-439f-b2fc-46adfc621436",
   "metadata": {},
   "outputs": [],
   "source": [
    "# H2. Lojas com competidores mais próximos deveriam vender menos.FALSA Lojas com COMPETIDORES MAIS PROXIMOS vendem MAIS."
   ]
  },
  {
   "cell_type": "code",
   "execution_count": null,
   "id": "adf7285b-da6b-4a30-b363-dbae9555e482",
   "metadata": {},
   "outputs": [],
   "source": [
    "\n",
    "aux1 = df4[['competition_distance', 'sales']].groupby( 'competition_distance' ).sum().reset_index()\n",
    "\n",
    "plt.figure(figsize=(15,6))\n",
    "\n",
    "plt.subplot( 1, 3, 3 )\n",
    "sns.heatmap( aux1.corr( method='pearson' ), annot=True, cbar = True );\n",
    "\n",
    "plt.subplot( 1, 3, 1 )\n",
    "sns.scatterplot( x ='competition_distance', y='sales', data=aux1 )\n",
    "\n",
    "plt.subplot( 1, 3, 2 )\n",
    "bins = list( np.arange( 0, 20000, 1000) )\n",
    "aux1['competition_distance_binned'] = pd.cut( aux1['competition_distance'], bins=bins )\n",
    "aux2 = aux1[['competition_distance_binned', 'sales']].groupby('competition_distance_binned' ).sum().reset_index()\n",
    "sns.barplot( x='competition_distance_binned', y='sales', data=aux2 );\n",
    "plt.xticks( rotation=90 );\n"
   ]
  },
  {
   "cell_type": "code",
   "execution_count": null,
   "id": "760298f0-32f6-467f-b3e8-c068428c9a98",
   "metadata": {},
   "outputs": [],
   "source": [
    "#H3. Lojas com competidores à mais tempo deveriam vendem mais.\n",
    "#FALSE Lojas com COMPETIDORES À MAIS TEMPO vendem MENOS"
   ]
  },
  {
   "cell_type": "code",
   "execution_count": null,
   "id": "4dcea7c6-0dab-471c-8d8d-7801b3afae2d",
   "metadata": {},
   "outputs": [],
   "source": [
    "#filtragem dos dados \n",
    "aux1 = df4[['competition_time_month', 'sales']].groupby('competition_time_month' ).sum().reset_index()\n",
    "aux2 = aux1[( aux1['competition_time_month'] < 120 ) & (aux1['competition_time_month'] != 0 )]\n",
    "\n",
    "plt.figure(figsize=(30,5))\n",
    "\n",
    "plt.subplot( 1, 3, 1 )\n",
    "sns.barplot( x='competition_time_month', y='sales', data=aux2 );\n",
    "plt.xticks( rotation=90 );\n",
    "\n",
    "plt.subplot( 1, 3, 2 )\n",
    "sns.regplot( x='competition_time_month', y='sales', data=aux2 );\n",
    "\n",
    "plt.subplot( 1, 3, 3 )\n",
    "x = sns.heatmap( aux1.corr( method='pearson'), annot=True );\n",
    "bottom, top = x.get_ylim()\n",
    "x.set_ylim( bottom+0.5, top-0.5);"
   ]
  },
  {
   "cell_type": "code",
   "execution_count": null,
   "id": "355de932-1347-4573-b1e9-bb14aa5f489f",
   "metadata": {},
   "outputs": [],
   "source": [
    "# H4. Lojas com promoções ativas por mais tempo deveriam vender mais.\n",
    "# FALSA Lojas com promocoes ativas por mais tempo vendem menos, depois de um certo periodo de promocao"
   ]
  },
  {
   "cell_type": "code",
   "execution_count": null,
   "id": "3d0801d1-25a5-4bff-afbd-ddff80654a03",
   "metadata": {},
   "outputs": [],
   "source": [
    "aux1 = df4[['promo_time_week', 'sales']].groupby( 'promo_time_week').sum().reset_index()\n",
    "\n",
    "plt.figure(figsize=(20,10))\n",
    "\n",
    "\n",
    "grid = GridSpec( 2, 3 )\n",
    "\n",
    "plt.subplot( grid[0,0] )\n",
    "aux2 = aux1[aux1['promo_time_week'] > 0] # promo extendido\n",
    "\n",
    "sns.barplot( x='promo_time_week', y='sales', data=aux2 );\n",
    "plt.xticks( rotation=90 );\n",
    "\n",
    "plt.subplot( grid[0,1] )\n",
    "sns.regplot( x='promo_time_week', y='sales', data=aux2 );\n",
    "\n",
    "plt.subplot( grid[1,0] )\n",
    "aux3 = aux1[aux1['promo_time_week'] < 0] # promo regular\n",
    "\n",
    "sns.barplot( x='promo_time_week', y='sales', data=aux3 );\n",
    "plt.xticks( rotation=90 );\n",
    "\n",
    "plt.subplot( grid[1,1] )\n",
    "sns.regplot( x='promo_time_week', y='sales', data=aux3 );\n",
    "\n",
    "plt.subplot( grid[:,2] )\n",
    "sns.heatmap( aux1.corr( method='pearson' ), annot=True );"
   ]
  },
  {
   "cell_type": "code",
   "execution_count": null,
   "id": "c5a9641f-b20b-49d7-a7ca-b89fece12f1d",
   "metadata": {},
   "outputs": [],
   "source": [
    "# H7. Lojas com mais promoções consecutivas deveriam vender mais.\n",
    "#FALSA Lojas com mais promocoes consecutivas vendem menos"
   ]
  },
  {
   "cell_type": "code",
   "execution_count": null,
   "id": "4b76cc05-4f31-44bd-8af5-72f61c761cbc",
   "metadata": {},
   "outputs": [],
   "source": [
    "df4[['promo', 'promo2', 'sales']].groupby( ['promo', 'promo2'] ).sum().reset_index()"
   ]
  },
  {
   "cell_type": "code",
   "execution_count": null,
   "id": "8b117e97-d327-461e-8225-0914b8f716f0",
   "metadata": {},
   "outputs": [],
   "source": [
    "aux1 = df4[( df4['promo'] == 1 ) & ( df4['promo2'] == 1 )][['year_week','sales']].groupby( 'year_week' ).sum().reset_index()\n",
    "ax = aux1.plot( x='year_week', y='sales' )\n",
    "\n",
    "aux2 = df4[( df4['promo'] == 1 ) & ( df4['promo2'] == 0 )][['year_week','sales']].groupby( 'year_week' ).sum().reset_index()\n",
    "aux2.plot( x='year_week', y='sales', ax=ax )\n",
    "\n",
    "ax.legend( labels=['Tradicional & Extendida', 'Extendida']);\n",
    "ax.set_title(\"Vendas x Tipos de Promo\")\n",
    "ax.set_xlabel(\"Semana & ano\")\n",
    "ax.set_ylabel(\"Vendas\")"
   ]
  },
  {
   "cell_type": "code",
   "execution_count": null,
   "id": "03a9e5f9-258e-4691-8a63-45bca53dc3c4",
   "metadata": {},
   "outputs": [],
   "source": [
    "#H8. Lojas abertas durante o feriado de Natal deveriam vender mais.\n",
    "#FALSA Lojas abertas durante o feriado do Natal vendem menos."
   ]
  },
  {
   "cell_type": "code",
   "execution_count": null,
   "id": "34b7d195-84a0-4ecd-8f41-0a0f4c7aed1c",
   "metadata": {},
   "outputs": [],
   "source": [
    "plt.figure(figsize=(20,5))\n",
    "\n",
    "aux = df4[df4['state_holiday'] != 'regular_day']\n",
    "\n",
    "plt.subplot( 1, 2, 1 )\n",
    "aux1 = aux[['state_holiday', 'sales']].groupby( 'state_holiday' ).sum().reset_index()\n",
    "sns.barplot( x='state_holiday', y='sales', data=aux1 );\n",
    "\n",
    "plt.subplot( 1, 2, 2 )\n",
    "aux2 = aux[['year', 'state_holiday', 'sales']].groupby( ['year','state_holiday'] ).sum().reset_index()\n",
    "sns.barplot( x='year', y='sales', hue='state_holiday', data=aux2 );"
   ]
  },
  {
   "cell_type": "code",
   "execution_count": null,
   "id": "d1327ea8-7eb1-4727-bc21-62f2c3340c7b",
   "metadata": {},
   "outputs": [],
   "source": [
    "#H9. Lojas deveriam vender mais ao longo dos anos.\n",
    "#FALSA Lojas vendem menos ao longo dos anos"
   ]
  },
  {
   "cell_type": "code",
   "execution_count": null,
   "id": "5ae6d4b6-1a3d-4753-9d2e-cbd9511fb5d3",
   "metadata": {},
   "outputs": [],
   "source": [
    "plt.figure(figsize=(20,5))\n",
    "\n",
    "aux1 = df4[['year', 'sales']].groupby( 'year' ).sum().reset_index()\n",
    "\n",
    "plt.subplot( 1, 3, 1 )\n",
    "sns.barplot( x='year', y='sales', data=aux1 );\n",
    "\n",
    "plt.subplot( 1, 3, 2 )\n",
    "sns.regplot( x='year', y='sales', data=aux1 );\n",
    "\n",
    "plt.subplot( 1, 3, 3 )\n",
    "sns.heatmap( aux1.corr( method='pearson' ), annot=True );\n"
   ]
  },
  {
   "cell_type": "code",
   "execution_count": null,
   "id": "13a42583-996c-4c66-b088-a4803b7effca",
   "metadata": {},
   "outputs": [],
   "source": [
    "#H10. Lojas deveriam vender mais no segundo semestre do ano.\n",
    "#FALSA Lojas vendem menos no segundo semestre do ano"
   ]
  },
  {
   "cell_type": "code",
   "execution_count": null,
   "id": "16ed53f5-40df-4009-8e6b-2d2960792a5f",
   "metadata": {},
   "outputs": [],
   "source": [
    "plt.figure(figsize=(20,5))\n",
    "\n",
    "aux1 = df4[['month', 'sales']].groupby( 'month' ).sum().reset_index()\n",
    "\n",
    "plt.subplot( 1, 3, 1 )\n",
    "sns.barplot( x='month', y='sales', data=aux1 );\n",
    "\n",
    "plt.subplot( 1, 3, 2 )\n",
    "sns.regplot( x='month', y='sales', data=aux1 );\n",
    "\n",
    "plt.subplot( 1, 3, 3 )\n",
    "sns.heatmap( aux1.corr( method='pearson' ), annot=True );"
   ]
  },
  {
   "cell_type": "code",
   "execution_count": null,
   "id": "a55d3206-aefd-4027-97fe-1471d2574692",
   "metadata": {},
   "outputs": [],
   "source": [
    "#H11. Lojas deveriam vender mais depois do dia 10 de cada mês.\n",
    "# VERDADEIRA Lojas vendem mais depois do dia 10 de cada mes."
   ]
  },
  {
   "cell_type": "code",
   "execution_count": null,
   "id": "8c21fb3c-cf51-4658-af58-f29c21bc3007",
   "metadata": {},
   "outputs": [],
   "source": [
    "plt.figure(figsize=(20,10))\n",
    "\n",
    "aux1 = df4[['day', 'sales']].groupby( 'day' ).sum().reset_index()\n",
    "\n",
    "plt.subplot( 2, 2, 1 )\n",
    "sns.barplot( x='day', y='sales', data=aux1 );\n",
    "\n",
    "plt.subplot( 2, 2, 2 )\n",
    "sns.regplot( x='day', y='sales', data=aux1 );\n",
    "\n",
    "plt.subplot( 2, 2, 3 )\n",
    "sns.heatmap( aux1.corr( method='pearson' ), annot=True );\n",
    "\n",
    "aux1['before_after'] = aux1['day'].apply( lambda x: 'before_10_days' if x <= 10 else 'after_10_days' )\n",
    "\n",
    "aux2 =aux1[['before_after', 'sales']].groupby( 'before_after' ).sum().reset_index()\n",
    "\n",
    "plt.subplot( 2, 2, 4 )\n",
    "sns.barplot( x='before_after', y='sales', data=aux2 );\n",
    "\n",
    "\n"
   ]
  },
  {
   "cell_type": "code",
   "execution_count": null,
   "id": "1ae3bb6a-fcc6-4a63-bc90-70da712d9365",
   "metadata": {},
   "outputs": [],
   "source": [
    "#H12. Lojas deveriam vender menos aos finais de semana.\n",
    "# VERDADEIRA Lojas vendem menos nos final de semana"
   ]
  },
  {
   "cell_type": "code",
   "execution_count": null,
   "id": "5f65d7d4-44a7-421f-bca9-96ed4ad3b2da",
   "metadata": {},
   "outputs": [],
   "source": [
    "plt.figure(figsize=(20,10))\n",
    "\n",
    "aux1 = df4[['day_of_week', 'sales']].groupby( 'day_of_week' ).sum().reset_index()\n",
    "\n",
    "plt.subplot( 1, 3, 1 )\n",
    "sns.barplot( x='day_of_week', y='sales', data=aux1 );\n",
    "\n",
    "plt.subplot( 1, 3, 2 )\n",
    "sns.regplot( x='day_of_week', y='sales', data=aux1 );\n",
    "\n",
    "plt.subplot( 1, 3, 3 )\n",
    "sns.heatmap( aux1.corr( method='pearson' ), annot=True );\n",
    "\n"
   ]
  },
  {
   "cell_type": "code",
   "execution_count": null,
   "id": "91b43a4e-fde9-4c32-b6a8-eb1d19352be9",
   "metadata": {},
   "outputs": [],
   "source": [
    "#H13. Lojas deveriam vender menos durante os feriados escolares.\n",
    "# VERDADEIRA Lojas vendem menos durante os feriadso escolares, except os meses de Julho e Agosto."
   ]
  },
  {
   "cell_type": "code",
   "execution_count": null,
   "id": "77ae1caf-e60c-4c76-b1de-7507a1d15652",
   "metadata": {},
   "outputs": [],
   "source": [
    "aux1 = df4[['school_holiday', 'sales']].groupby( 'school_holiday' ).sum().reset_index()\n",
    "\n",
    "plt.subplot( 2, 1, 1 )\n",
    "sns.barplot( x='school_holiday', y='sales', data=aux1 );\n",
    "aux2 = df4[['month', 'school_holiday', 'sales']].groupby(['month','school_holiday'] ).sum().reset_index()\n",
    "\n",
    "plt.subplot( 2, 1, 2 )\n",
    "sns.barplot( x='month', y='sales', hue='school_holiday', data=aux2 );\n",
    "\n",
    "plt.subplots_adjust( hspace=0.5)"
   ]
  },
  {
   "cell_type": "code",
   "execution_count": null,
   "id": "e5026817-3b5b-41e2-ad77-fb5c9b825017",
   "metadata": {},
   "outputs": [],
   "source": [
    "from tabulate import tabulate\n",
    "tab =[['Hipóteses', 'Conclusão', 'Relevância'],\n",
    "['H1: Lojas com maior sortimentos deveriam vender mais', 'Falsa', 'Baixa'],\n",
    "['H2: Lojas com competidores mais próximos deveriam vender menos', 'Falsa', 'Media'],\n",
    "['H3: Lojas com competidores à mais tempo deveriam vendem mais', 'Falsa', 'Media'],\n",
    "['H4: Lojas com promoções ativas por mais tempo deveriam vender mais', 'Falsa', 'Baixa'],\n",
    "['H7: Lojas com mais promoções consecutivas deveriam vender mais', 'Falsa', 'Baixa'],\n",
    "['H8: Lojas abertas durante o feriado de Natal deveriam vender mais', 'Falsa', 'Media'],\n",
    "['H9: Lojas deveriam vender mais ao longo dos anos', 'Falsa', 'Alta'],\n",
    "['H10: Lojas deveriam vender mais no segundo semestre do ano', 'Falsa', 'Alta'],\n",
    "['H11: Lojas deveriam vender mais depois do dia 10 de cada mês', 'Verdadeira', 'Alta'],\n",
    "['H12: Lojas deveriam vender menos aos finais de semana', 'Verdadeira', 'Alta'],\n",
    "['H13: Lojas deveriam vender menos durante os feriados escolares', 'Verdadeira', 'Baixa'],\n",
    "]\n",
    "print( tabulate( tab, headers='firstrow' ) )"
   ]
  },
  {
   "cell_type": "markdown",
   "id": "599bb504-9341-44ff-9cf1-2ca62c95f686",
   "metadata": {
    "tags": []
   },
   "source": [
    "## 4.3 Análise Multivariado"
   ]
  },
  {
   "cell_type": "markdown",
   "id": "89c2427c-d673-46ab-8685-17c86f8ec169",
   "metadata": {},
   "source": [
    "### 4.3.1. Numerical Attributes"
   ]
  },
  {
   "cell_type": "code",
   "execution_count": null,
   "id": "dad5a473-442c-4113-b983-da9ef79ecfd0",
   "metadata": {},
   "outputs": [],
   "source": [
    "correlation = num_attributes.corr(method='pearson').fillna(0)"
   ]
  },
  {
   "cell_type": "code",
   "execution_count": null,
   "id": "3cd37ebc-7ad7-4fc1-aafc-29ae4cdc9fef",
   "metadata": {},
   "outputs": [],
   "source": [
    "plt.figure(figsize=(8, 5))\n",
    "sns.heatmap( correlation  , annot=True, fmt='.1f',  annot_kws={\"size\": 10} )"
   ]
  },
  {
   "cell_type": "markdown",
   "id": "5c6e4967-1489-4b6d-8932-e26cb934882f",
   "metadata": {},
   "source": [
    "### 4.3.2. Categorical Attributes"
   ]
  },
  {
   "cell_type": "code",
   "execution_count": null,
   "id": "ab8241d8-2afd-4dbc-87ab-d6c42bd04053",
   "metadata": {},
   "outputs": [],
   "source": [
    "def cramer_v( x, y ):\n",
    "    cm = pd.crosstab( x, y ).values\n",
    "    n = cm.sum()\n",
    "    r, k = cm.shape\n",
    "    \n",
    "    chi2 = ss.chi2_contingency( cm )[0]\n",
    "    chi2corr = max( 0, chi2 - (k-1)*(r-1)/(n-1) )\n",
    "    \n",
    "    kcorr = k - (k-1)**2/(n-1)\n",
    "    rcorr = r - (r-1)**2/(n-1)\n",
    "    \n",
    "    return np.sqrt( (chi2corr/n) / ( min( kcorr-1, rcorr-1 ) ) )\n"
   ]
  },
  {
   "cell_type": "code",
   "execution_count": null,
   "id": "3bee9686-9911-4f8b-b9da-62cf3ca25f3b",
   "metadata": {},
   "outputs": [],
   "source": [
    "# only categorical data\n",
    "a = df4.select_dtypes( include='object' )\n"
   ]
  },
  {
   "cell_type": "code",
   "execution_count": null,
   "id": "e71f5005-be38-47f3-8638-8d375ba08068",
   "metadata": {},
   "outputs": [],
   "source": [
    "# Calculate cramer V\n",
    "a1 = cramer_v( a['state_holiday'], a['state_holiday'] )\n",
    "a2 = cramer_v( a['state_holiday'], a['store_type'] )\n",
    "a3 = cramer_v( a['state_holiday'], a['assortment'] )\n",
    "a4 = cramer_v( a['store_type'],a['state_holiday'] )\n",
    "a5 = cramer_v( a['store_type'],a['store_type'] )\n",
    "a6 = cramer_v( a['store_type'],a['assortment'] )\n",
    "a7 = cramer_v( a['assortment'],a['state_holiday'] )\n",
    "a8 = cramer_v( a['assortment'],a['store_type'] )\n",
    "a9 = cramer_v( a['assortment'],a['assortment'] )"
   ]
  },
  {
   "cell_type": "code",
   "execution_count": null,
   "id": "94c784cd-c73c-4b04-8a91-f18e0602d25c",
   "metadata": {},
   "outputs": [],
   "source": [
    "# Final dataset\n",
    "d = pd.DataFrame( {'state_holiday': [a1, a2, a3],\n",
    "                   'store_type': [a4, a5, a6],\n",
    "                   'assortment': [a7, a8, a9] })\n",
    "d = d.set_index( d.columns )\n",
    "\n",
    "sns.heatmap( d, annot=True )\n"
   ]
  },
  {
   "cell_type": "markdown",
   "id": "90905b33-0171-49d3-8806-5686c0e4ca7e",
   "metadata": {
    "jp-MarkdownHeadingCollapsed": true,
    "tags": []
   },
   "source": [
    "# 05 - DATA PREPARATION"
   ]
  },
  {
   "cell_type": "code",
   "execution_count": null,
   "id": "e0f3299e-f02c-47cd-a7e9-5fd513e00a26",
   "metadata": {},
   "outputs": [],
   "source": [
    "df5 = df4.copy()"
   ]
  },
  {
   "cell_type": "markdown",
   "id": "e62df073-3bcb-43fb-98dc-41379aaf367e",
   "metadata": {},
   "source": [
    "## 5.1. Normalizacao"
   ]
  },
  {
   "cell_type": "code",
   "execution_count": null,
   "id": "64ec4eee-7bef-42a6-8b30-dda6e3f14ba2",
   "metadata": {},
   "outputs": [],
   "source": [
    "df5.dtypes"
   ]
  },
  {
   "cell_type": "code",
   "execution_count": null,
   "id": "c66d67a2-e9bf-4294-8e91-1c23d8bec592",
   "metadata": {},
   "outputs": [],
   "source": [
    "df5.select_dtypes( include=['int32', 'int64', 'float64'])"
   ]
  },
  {
   "cell_type": "code",
   "execution_count": null,
   "id": "a400ddd5-affc-4065-84a3-ea61116e7e7f",
   "metadata": {},
   "outputs": [],
   "source": [
    "rs = RobustScaler()\n",
    "mn = MinMaxScaler()\n",
    "\n",
    "df5['competition_distance'] = rs.fit_transform(df5[['competition_distance']].values)\n",
    "\n",
    "df5['competition_time_month'] = rs.fit_transform(df5[['competition_time_month']].values)\n",
    "\n",
    "df5['promo_time_week'] = mn.fit_transform(df5[['promo_time_week']].values)\n",
    "\n",
    "df5['year'] = mn.fit_transform(df5[['year']].values)"
   ]
  },
  {
   "cell_type": "markdown",
   "id": "5ce2dabf-80bb-430b-be84-aca7fadfe9e2",
   "metadata": {},
   "source": [
    "## 5.2. Encoding"
   ]
  },
  {
   "cell_type": "code",
   "execution_count": null,
   "id": "77beb983-b2ee-4b51-bf90-e75abe139ca2",
   "metadata": {},
   "outputs": [],
   "source": [
    "df5.columns\n"
   ]
  },
  {
   "cell_type": "code",
   "execution_count": null,
   "id": "318645aa-dc5d-4d7d-bef3-cfa7c991e381",
   "metadata": {},
   "outputs": [],
   "source": [
    "#tratando variaveis categoricas\n",
    "df5 = pd.get_dummies(df5, prefix=['state_holiday'] , columns=['state_holiday'])"
   ]
  },
  {
   "cell_type": "code",
   "execution_count": null,
   "id": "acc2d993-12e1-43f3-8c35-19280575bacf",
   "metadata": {},
   "outputs": [],
   "source": [
    "le = LabelEncoder()\n",
    "\n",
    "df5['store_type'] = le.fit_transform(df5['store_type'])\n",
    "\n",
    "assortment_dict = {'basic': 1, 'extra':  2, 'extended': 3}\n",
    "df5['assortment'] = df5['assortment'].map( assortment_dict)"
   ]
  },
  {
   "cell_type": "markdown",
   "id": "848f8874-d209-45bd-a653-55acc9ef2030",
   "metadata": {},
   "source": [
    "## 5.3 response transformation \n"
   ]
  },
  {
   "cell_type": "code",
   "execution_count": null,
   "id": "4782deb3-f16a-4aa4-be3b-8a7b1a6825bb",
   "metadata": {},
   "outputs": [],
   "source": [
    "df5['sales'] = np.log1p(df5['sales'])"
   ]
  },
  {
   "cell_type": "markdown",
   "id": "e8d83ba7-feed-45d0-bc86-9d1776f71dc4",
   "metadata": {},
   "source": [
    "## 5.4 Nature transformation"
   ]
  },
  {
   "cell_type": "code",
   "execution_count": null,
   "id": "850341f3-d1ac-4d68-89e1-e3d7f23f761a",
   "metadata": {},
   "outputs": [],
   "source": [
    "df5['day_of_week_sin'] = df5['day_of_week'].apply(lambda x: np.sin(x * (2. * np.pi/12 )))\n",
    "df5['day_of_week_cos'] = df5['day_of_week'].apply(lambda x: np.cos(x * (2. * np.pi/12 )))\n",
    "\n",
    "df5['year_sin'] = df5['year'].apply(lambda x: np.sin(x * (2. * np.pi/12 )))\n",
    "df5['year_cos'] = df5['year'].apply(lambda x: np.cos(x * (2. * np.pi/12 )))\n",
    "\n",
    "df5['month_sin'] = df5['month'].apply(lambda x: np.sin(x * (2. * np.pi/12 )))\n",
    "df5['month_cos'] = df5['month'].apply(lambda x: np.cos(x * (2. * np.pi/12 )))\n",
    "\n",
    "df5['day_sin'] = df5['day'].apply(lambda x: np.sin(x * (2. * np.pi/12 )))\n",
    "df5['day_cos'] = df5['day'].apply(lambda x: np.cos(x * (2. * np.pi/12 )))\n",
    "\n",
    "df5['week_of_year_sin'] = df5['week_of_year'].apply(lambda x: np.sin(x * (2. * np.pi/12 )))\n",
    "df5['week_of_year_cos'] = df5['week_of_year'].apply(lambda x: np.cos(x * (2. * np.pi/12 )))"
   ]
  },
  {
   "cell_type": "markdown",
   "id": "782e9da4-d63a-4ae0-84e1-d978d8afcec9",
   "metadata": {},
   "source": [
    "# 6 - FEATURE SELECTION"
   ]
  },
  {
   "cell_type": "code",
   "execution_count": null,
   "id": "c8442a71-81b3-495c-9c5b-2817de562eb4",
   "metadata": {},
   "outputs": [],
   "source": [
    "df6 = df5.copy()"
   ]
  },
  {
   "cell_type": "code",
   "execution_count": null,
   "id": "6e8a0c27-d0c8-4cb9-8f88-842399c9b019",
   "metadata": {},
   "outputs": [],
   "source": [
    "#deletar colunas que originaram outras colunas\n",
    "drop_columns = ['week_of_year', 'day', 'month', 'day_of_week', 'promo_since', 'competition_since','year_week']\n",
    "df6 = df6.drop(drop_columns, axis=1)"
   ]
  },
  {
   "cell_type": "markdown",
   "id": "10a62103-4fd8-4213-8b6e-b5174b7bce85",
   "metadata": {},
   "source": [
    "## 6.1 Split train and test"
   ]
  },
  {
   "cell_type": "code",
   "execution_count": null,
   "id": "71be4710-726a-484c-ad87-f927025ed98f",
   "metadata": {},
   "outputs": [],
   "source": [
    "# training dataset\n",
    "X_train = df6[df6['date'] < '2015-06-19']\n",
    "y_train = X_train['sales']"
   ]
  },
  {
   "cell_type": "code",
   "execution_count": null,
   "id": "367a45d0-cf8e-4b84-8f82-a604b48527d1",
   "metadata": {},
   "outputs": [],
   "source": [
    "# test dataset\n",
    "X_test = df6[df6['date'] >= '2015-06-19']\n",
    "y_test = X_test['sales']\n",
    "\n",
    "print( 'Training Min Date: {}'.format( X_train['date'].min() ) )\n",
    "print( 'Training Max Date: {}'.format( X_train['date'].max() ) )\n",
    "\n",
    "print( '\\nTest Min Date: {}'  .format( X_test ['date'].min() ) )\n",
    "print( 'Test Max Date: {}'    .format( X_test ['date'].max() ) )\n"
   ]
  },
  {
   "cell_type": "markdown",
   "id": "71c4cfc7-74ce-4bbc-b1b2-42560da51395",
   "metadata": {},
   "source": [
    "## 6.2 Boruta feature selection"
   ]
  },
  {
   "cell_type": "code",
   "execution_count": null,
   "id": "f4f74807-0d96-4e9b-b2db-118fa4b2d86f",
   "metadata": {},
   "outputs": [],
   "source": [
    "# training and test dataset for Boruta\n",
    "#X_train_n = X_train.drop( ['date', 'sales'], axis=1 ).values\n",
    "#y_train_n = y_train.values.ravel()\n",
    "\n",
    "# define RandomForestRegressor\n",
    "#rf = RandomForestRegressor( n_jobs=-1 )\n",
    "\n",
    "## define Boruta\n",
    "#boruta = BorutaPy( rf, n_estimators='auto', verbose=2, random_state=42 ).fit(X_train_n, y_train_n )"
   ]
  },
  {
   "cell_type": "markdown",
   "id": "a7b7c063-c77a-42ad-a998-94a0e1116e7e",
   "metadata": {},
   "source": [
    "### 6.2.1 Best Features from Boruta"
   ]
  },
  {
   "cell_type": "code",
   "execution_count": null,
   "id": "b33a84b3-5cf7-4b69-99af-17d744e2741d",
   "metadata": {},
   "outputs": [],
   "source": [
    "#cols_selected = boruta.support_.tolist()\n",
    "#\n",
    "## best features\n",
    "#X_train_fs = X_train.drop( ['date', 'sales'], axis=1 )\n",
    "#cols_selected_boruta = X_train_fs.iloc[:, cols_selected].columns.to_list()\n",
    "#\n",
    "## not selected boruta\n",
    "#cols_not_selected_boruta = list( np.setdiff1d( X_train_fs.columns,cols_selected_boruta ) )"
   ]
  },
  {
   "cell_type": "markdown",
   "id": "998c7f86-e3f5-4ce2-8848-b987eb6e7ffc",
   "metadata": {},
   "source": [
    "## 6.3 Manual Feature Selection"
   ]
  },
  {
   "cell_type": "code",
   "execution_count": null,
   "id": "7601fef5-eb16-46ce-b835-3713a4d51919",
   "metadata": {},
   "outputs": [],
   "source": [
    "cols_selected_boruta = [\n",
    "                        'store',\n",
    "                        'promo',\n",
    "                        'store_type',\n",
    "                        'assortment',\n",
    "                        'competition_distance',\n",
    "                        'competition_open_since_month',\n",
    "                        'competition_open_since_year',\n",
    "                        'promo2',\n",
    "                        'promo2_since_week',\n",
    "                        'promo2_since_year',\n",
    "                        'competition_time_month',\n",
    "                        'promo_time_week',\n",
    "                        'day_of_week_sin',\n",
    "                        'day_of_week_cos',\n",
    "                        'month_sin',\n",
    "                        'month_cos',\n",
    "                        'day_sin',\n",
    "                        'day_cos',\n",
    "                        'week_of_year_sin',\n",
    "                        'week_of_year_cos'\n",
    "]"
   ]
  },
  {
   "cell_type": "code",
   "execution_count": null,
   "id": "3bb9ad2f-dab1-4e77-a670-0c439408ac0d",
   "metadata": {},
   "outputs": [],
   "source": [
    "# columns to add\n",
    "feat_to_add = ['date', 'sales']\n",
    "cols_selected_boruta_full = cols_selected_boruta.copy()\n",
    "cols_selected_boruta_full.extend( feat_to_add )"
   ]
  },
  {
   "cell_type": "markdown",
   "id": "947fb780-63e8-489a-b33c-9f332c1f29b5",
   "metadata": {},
   "source": [
    "# 7.0 Machine Learning"
   ]
  },
  {
   "cell_type": "code",
   "execution_count": null,
   "id": "88fdc289-1522-4690-b996-4417f3eb1dba",
   "metadata": {},
   "outputs": [],
   "source": [
    "## 7.1 avarege model"
   ]
  },
  {
   "cell_type": "code",
   "execution_count": null,
   "id": "88c4e9ec-49a8-4115-a28c-19258b5da8fc",
   "metadata": {},
   "outputs": [],
   "source": [
    "x_train = X_train[ cols_selected_boruta ] "
   ]
  },
  {
   "cell_type": "code",
   "execution_count": null,
   "id": "54efea1d-84b4-4897-bdec-0123ee7bdf7e",
   "metadata": {},
   "outputs": [],
   "source": [
    "x_test = X_test[cols_selected_boruta ]"
   ]
  },
  {
   "cell_type": "markdown",
   "id": "c5b3c3bd-157c-49c4-a710-8faaf704a877",
   "metadata": {},
   "source": [
    "## 7.1 Avarage Model"
   ]
  },
  {
   "cell_type": "code",
   "execution_count": null,
   "id": "505246a9-d08a-4e95-812e-7564393d42b6",
   "metadata": {},
   "outputs": [],
   "source": [
    "aux1.columns"
   ]
  },
  {
   "cell_type": "code",
   "execution_count": null,
   "id": "6a11342a-ec85-425b-a0a3-decbb6e127a5",
   "metadata": {},
   "outputs": [],
   "source": [
    "aux1 = x_test.copy() # fazendo uma cópia do arquivo teste.\n",
    "aux1['sales'] = y_test.copy() \n",
    "\n",
    "#prediction \n",
    "\n",
    "#agrupei os dados store e sales pela media considerando store\n",
    "aux2 = aux1.loc[:, ['store', 'sales']].groupby(['store']).mean().reset_index()\n",
    "aux2 = aux2.rename(columns={'sales': 'predictions'})\n",
    "aux1 = pd.merge (aux1, aux2, how ='left', on ='store')"
   ]
  },
  {
   "cell_type": "code",
   "execution_count": null,
   "id": "1837dc42-454a-4244-90c0-55a40c50e7c4",
   "metadata": {},
   "outputs": [],
   "source": [
    "from sklearn.metrics import mean_absolute_error , mean_squared_error\n",
    "\n",
    "def ml_error (model_name, y, yhat):\n",
    "    mae = mean_absolute_error(y, yhat)\n",
    "    mape = mean_absolute_percentage_error(y,yhat)\n",
    "    rmse = mean_squared_error(y,yhat, squared=False)\n",
    "    \n",
    "    return pd.DataFrame ( { 'Model Name': model_name, \n",
    "                            'MAE': mae, \n",
    "                            'MAPE': mape,\n",
    "                            'RMSE': rmse},\n",
    "                             \n",
    "                             index=[0] )\n",
    "\n",
    "def mean_absolute_percentage_error(y,yhat):\n",
    "    return np. mean(np.abs((y - yhat) / y))"
   ]
  },
  {
   "cell_type": "code",
   "execution_count": null,
   "id": "ce4856ef-3b43-4480-896e-35309d6460b0",
   "metadata": {},
   "outputs": [],
   "source": [
    "yhat_baseline = aux1['predictions']\n",
    "\n",
    "#performance\n",
    "baseline_result = ml_error('Avarage Model',np.expm1( y_test) , np.expm1(yhat_baseline))\n",
    "baseline_result"
   ]
  },
  {
   "cell_type": "markdown",
   "id": "2cbafddc-70f9-4b98-9975-521e59ff85b3",
   "metadata": {},
   "source": [
    "## 7.2 linear Regression Model"
   ]
  },
  {
   "cell_type": "code",
   "execution_count": null,
   "id": "2fa36f47-58f4-4f97-ac56-c09343db16fa",
   "metadata": {},
   "outputs": [],
   "source": [
    "from sklearn.linear_model import LinearRegression, Lasso\n",
    "lr = LinearRegression().fit( x_train, y_train)\n",
    "yhat_lr = lr.predict (x_test)\n",
    "\n",
    "lr_result = ml_error('linear_regression', np.expm1(y_test),np.expm1( yhat_lr))"
   ]
  },
  {
   "cell_type": "markdown",
   "id": "6667d74d-2836-4b20-8fed-50c1b648e583",
   "metadata": {},
   "source": [
    "## 7.3 linear Regression Regularized Model"
   ]
  },
  {
   "cell_type": "code",
   "execution_count": null,
   "id": "94f20f81-9914-4247-8fc2-e9bf71236e7e",
   "metadata": {},
   "outputs": [],
   "source": [
    "\n",
    "lrr = Lasso( alpha = 0.01 ).fit (x_train, y_train)\n",
    "\n",
    "yhat_lrr = lrr.predict(x_test)\n",
    "\n",
    "lrr_result = ml_error( 'Linear Regression Lasso', np.expm1(y_test),np.expm1( yhat_lrr))\n",
    "lrr_result"
   ]
  },
  {
   "cell_type": "code",
   "execution_count": null,
   "id": "19ecc2c7-b37f-416a-ab01-bd4942b6c260",
   "metadata": {},
   "outputs": [],
   "source": [
    "result_table = pd.DataFrame(baseline_result, lr_result, lrr_result)"
   ]
  },
  {
   "cell_type": "code",
   "execution_count": null,
   "id": "ad3a91a6-9e52-4796-8daf-1ac02728b010",
   "metadata": {},
   "outputs": [],
   "source": []
  }
 ],
 "metadata": {
  "kernelspec": {
   "display_name": "Python 3 (ipykernel)",
   "language": "python",
   "name": "python3"
  },
  "language_info": {
   "codemirror_mode": {
    "name": "ipython",
    "version": 3
   },
   "file_extension": ".py",
   "mimetype": "text/x-python",
   "name": "python",
   "nbconvert_exporter": "python",
   "pygments_lexer": "ipython3",
   "version": "3.11.9"
  }
 },
 "nbformat": 4,
 "nbformat_minor": 5
}
